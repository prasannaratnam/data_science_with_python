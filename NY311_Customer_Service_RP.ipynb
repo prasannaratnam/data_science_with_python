{
 "cells": [
  {
   "cell_type": "markdown",
   "metadata": {},
   "source": [
    "# NYC 311 Service Requests\n",
    "\n",
    "#### <ins>Background of Problem Statement :</ins>\n",
    "\n",
    "NYC 311's mission is to provide the public with quick and easy access to all New York City government services and information while offering the best customer service. Each day, NYC311 receives thousands of requests related to several hundred types of non-emergency services, including noise complaints, plumbing issues, and illegally parked cars. These requests are received by NYC311 and forwarded to the relevant agencies such as the police, buildings, or transportation. The agency responds to the request, addresses it, and then closes it.\n",
    "\n",
    "#### Problem Objective :\n",
    "\n",
    "Perform a service request data analysis of New York City 311 calls. You will focus on the data wrangling techniques to **understand the pattern in the data** and also **visualize the major complaint types.**\n",
    "Domain: Customer Service\n",
    "\n",
    "#### Analysis Tasks to be performed:\n",
    "\n",
    "(Perform a service request data analysis of New York City 311 calls) \n",
    "\n",
    "1. Import a 311 NYC service request.\n",
    "2. Read or convert the columns ‘Created Date’ and Closed Date’ to datetime datatype and create a new column ‘Request_Closing_Time’ as the time elapsed between request creation and request closing. (Hint: Explore the package/module datetime)\n",
    "3. Provide major insights/patterns that you can offer in a visual format (graphs or tables); at least 4 major conclusions that you can come up with after generic data mining.\n",
    "4. Order the complaint types based on the average ‘Request_Closing_Time’, grouping them for different locations.\n",
    "5. Perform a statistical test for the following:\n",
    "\n",
    "Please note: For the below statements you need to state the Null and Alternate and then provide a statistical test to accept or reject the Null Hypothesis along with the corresponding ‘p-value’.\n",
    "\n",
    "**Whether the average response time across complaint types is similar or not (overall)**\n",
    "\n",
    "**Are the type of complaint or service requested and location related?**"
   ]
  },
  {
   "cell_type": "markdown",
   "metadata": {},
   "source": [
    "# 1. Import a 311 NYC service request"
   ]
  },
  {
   "cell_type": "code",
   "execution_count": 1,
   "metadata": {},
   "outputs": [],
   "source": [
    "# importing all the necessary libraries\n",
    "\n",
    "import datetime \n",
    "import numpy as np\n",
    "import pandas as pd\n",
    "import scipy.stats as stats\n",
    "from math import sqrt\n",
    "import seaborn as sns\n",
    "import matplotlib.pyplot as plt\n",
    "%matplotlib inline"
   ]
  },
  {
   "cell_type": "code",
   "execution_count": 2,
   "metadata": {},
   "outputs": [
    {
     "name": "stderr",
     "output_type": "stream",
     "text": [
      "C:\\Users\\gsspratn\\AppData\\Roaming\\Python\\Python38\\site-packages\\IPython\\core\\interactiveshell.py:3145: DtypeWarning: Columns (48,49) have mixed types.Specify dtype option on import or set low_memory=False.\n",
      "  has_raised = await self.run_ast_nodes(code_ast.body, cell_name,\n"
     ]
    }
   ],
   "source": [
    "# importing the dataset\n",
    "\n",
    "df = pd.read_csv('311_Service_Requests_from_2010_to_Present.csv')"
   ]
  },
  {
   "cell_type": "code",
   "execution_count": 3,
   "metadata": {},
   "outputs": [
    {
     "data": {
      "text/plain": [
       "(300698, 53)"
      ]
     },
     "execution_count": 3,
     "metadata": {},
     "output_type": "execute_result"
    }
   ],
   "source": [
    "df.shape"
   ]
  },
  {
   "cell_type": "code",
   "execution_count": 4,
   "metadata": {},
   "outputs": [
    {
     "data": {
      "text/plain": [
       "Index(['Unique Key', 'Created Date', 'Closed Date', 'Agency', 'Agency Name',\n",
       "       'Complaint Type', 'Descriptor', 'Location Type', 'Incident Zip',\n",
       "       'Incident Address', 'Street Name', 'Cross Street 1', 'Cross Street 2',\n",
       "       'Intersection Street 1', 'Intersection Street 2', 'Address Type',\n",
       "       'City', 'Landmark', 'Facility Type', 'Status', 'Due Date',\n",
       "       'Resolution Description', 'Resolution Action Updated Date',\n",
       "       'Community Board', 'Borough', 'X Coordinate (State Plane)',\n",
       "       'Y Coordinate (State Plane)', 'Park Facility Name', 'Park Borough',\n",
       "       'School Name', 'School Number', 'School Region', 'School Code',\n",
       "       'School Phone Number', 'School Address', 'School City', 'School State',\n",
       "       'School Zip', 'School Not Found', 'School or Citywide Complaint',\n",
       "       'Vehicle Type', 'Taxi Company Borough', 'Taxi Pick Up Location',\n",
       "       'Bridge Highway Name', 'Bridge Highway Direction', 'Road Ramp',\n",
       "       'Bridge Highway Segment', 'Garage Lot Name', 'Ferry Direction',\n",
       "       'Ferry Terminal Name', 'Latitude', 'Longitude', 'Location'],\n",
       "      dtype='object')"
      ]
     },
     "execution_count": 4,
     "metadata": {},
     "output_type": "execute_result"
    }
   ],
   "source": [
    "df.keys()"
   ]
  },
  {
   "cell_type": "code",
   "execution_count": 5,
   "metadata": {},
   "outputs": [
    {
     "data": {
      "text/html": [
       "<div>\n",
       "<style scoped>\n",
       "    .dataframe tbody tr th:only-of-type {\n",
       "        vertical-align: middle;\n",
       "    }\n",
       "\n",
       "    .dataframe tbody tr th {\n",
       "        vertical-align: top;\n",
       "    }\n",
       "\n",
       "    .dataframe thead th {\n",
       "        text-align: right;\n",
       "    }\n",
       "</style>\n",
       "<table border=\"1\" class=\"dataframe\">\n",
       "  <thead>\n",
       "    <tr style=\"text-align: right;\">\n",
       "      <th></th>\n",
       "      <th>Unique Key</th>\n",
       "      <th>Created Date</th>\n",
       "      <th>Closed Date</th>\n",
       "      <th>Agency</th>\n",
       "      <th>Agency Name</th>\n",
       "      <th>Complaint Type</th>\n",
       "      <th>Descriptor</th>\n",
       "      <th>Location Type</th>\n",
       "      <th>Incident Zip</th>\n",
       "      <th>Incident Address</th>\n",
       "      <th>...</th>\n",
       "      <th>Bridge Highway Name</th>\n",
       "      <th>Bridge Highway Direction</th>\n",
       "      <th>Road Ramp</th>\n",
       "      <th>Bridge Highway Segment</th>\n",
       "      <th>Garage Lot Name</th>\n",
       "      <th>Ferry Direction</th>\n",
       "      <th>Ferry Terminal Name</th>\n",
       "      <th>Latitude</th>\n",
       "      <th>Longitude</th>\n",
       "      <th>Location</th>\n",
       "    </tr>\n",
       "  </thead>\n",
       "  <tbody>\n",
       "    <tr>\n",
       "      <th>0</th>\n",
       "      <td>32310363</td>\n",
       "      <td>12/31/2015 11:59:45 PM</td>\n",
       "      <td>01-01-16 0:55</td>\n",
       "      <td>NYPD</td>\n",
       "      <td>New York City Police Department</td>\n",
       "      <td>Noise - Street/Sidewalk</td>\n",
       "      <td>Loud Music/Party</td>\n",
       "      <td>Street/Sidewalk</td>\n",
       "      <td>10034.0</td>\n",
       "      <td>71 VERMILYEA AVENUE</td>\n",
       "      <td>...</td>\n",
       "      <td>NaN</td>\n",
       "      <td>NaN</td>\n",
       "      <td>NaN</td>\n",
       "      <td>NaN</td>\n",
       "      <td>NaN</td>\n",
       "      <td>NaN</td>\n",
       "      <td>NaN</td>\n",
       "      <td>40.865682</td>\n",
       "      <td>-73.923501</td>\n",
       "      <td>(40.86568153633767, -73.92350095571744)</td>\n",
       "    </tr>\n",
       "    <tr>\n",
       "      <th>1</th>\n",
       "      <td>32309934</td>\n",
       "      <td>12/31/2015 11:59:44 PM</td>\n",
       "      <td>01-01-16 1:26</td>\n",
       "      <td>NYPD</td>\n",
       "      <td>New York City Police Department</td>\n",
       "      <td>Blocked Driveway</td>\n",
       "      <td>No Access</td>\n",
       "      <td>Street/Sidewalk</td>\n",
       "      <td>11105.0</td>\n",
       "      <td>27-07 23 AVENUE</td>\n",
       "      <td>...</td>\n",
       "      <td>NaN</td>\n",
       "      <td>NaN</td>\n",
       "      <td>NaN</td>\n",
       "      <td>NaN</td>\n",
       "      <td>NaN</td>\n",
       "      <td>NaN</td>\n",
       "      <td>NaN</td>\n",
       "      <td>40.775945</td>\n",
       "      <td>-73.915094</td>\n",
       "      <td>(40.775945312321085, -73.91509393898605)</td>\n",
       "    </tr>\n",
       "    <tr>\n",
       "      <th>2</th>\n",
       "      <td>32309159</td>\n",
       "      <td>12/31/2015 11:59:29 PM</td>\n",
       "      <td>01-01-16 4:51</td>\n",
       "      <td>NYPD</td>\n",
       "      <td>New York City Police Department</td>\n",
       "      <td>Blocked Driveway</td>\n",
       "      <td>No Access</td>\n",
       "      <td>Street/Sidewalk</td>\n",
       "      <td>10458.0</td>\n",
       "      <td>2897 VALENTINE AVENUE</td>\n",
       "      <td>...</td>\n",
       "      <td>NaN</td>\n",
       "      <td>NaN</td>\n",
       "      <td>NaN</td>\n",
       "      <td>NaN</td>\n",
       "      <td>NaN</td>\n",
       "      <td>NaN</td>\n",
       "      <td>NaN</td>\n",
       "      <td>40.870325</td>\n",
       "      <td>-73.888525</td>\n",
       "      <td>(40.870324522111424, -73.88852464418646)</td>\n",
       "    </tr>\n",
       "    <tr>\n",
       "      <th>3</th>\n",
       "      <td>32305098</td>\n",
       "      <td>12/31/2015 11:57:46 PM</td>\n",
       "      <td>01-01-16 7:43</td>\n",
       "      <td>NYPD</td>\n",
       "      <td>New York City Police Department</td>\n",
       "      <td>Illegal Parking</td>\n",
       "      <td>Commercial Overnight Parking</td>\n",
       "      <td>Street/Sidewalk</td>\n",
       "      <td>10461.0</td>\n",
       "      <td>2940 BAISLEY AVENUE</td>\n",
       "      <td>...</td>\n",
       "      <td>NaN</td>\n",
       "      <td>NaN</td>\n",
       "      <td>NaN</td>\n",
       "      <td>NaN</td>\n",
       "      <td>NaN</td>\n",
       "      <td>NaN</td>\n",
       "      <td>NaN</td>\n",
       "      <td>40.835994</td>\n",
       "      <td>-73.828379</td>\n",
       "      <td>(40.83599404683083, -73.82837939584206)</td>\n",
       "    </tr>\n",
       "    <tr>\n",
       "      <th>4</th>\n",
       "      <td>32306529</td>\n",
       "      <td>12/31/2015 11:56:58 PM</td>\n",
       "      <td>01-01-16 3:24</td>\n",
       "      <td>NYPD</td>\n",
       "      <td>New York City Police Department</td>\n",
       "      <td>Illegal Parking</td>\n",
       "      <td>Blocked Sidewalk</td>\n",
       "      <td>Street/Sidewalk</td>\n",
       "      <td>11373.0</td>\n",
       "      <td>87-14 57 ROAD</td>\n",
       "      <td>...</td>\n",
       "      <td>NaN</td>\n",
       "      <td>NaN</td>\n",
       "      <td>NaN</td>\n",
       "      <td>NaN</td>\n",
       "      <td>NaN</td>\n",
       "      <td>NaN</td>\n",
       "      <td>NaN</td>\n",
       "      <td>40.733060</td>\n",
       "      <td>-73.874170</td>\n",
       "      <td>(40.733059618956815, -73.87416975810375)</td>\n",
       "    </tr>\n",
       "  </tbody>\n",
       "</table>\n",
       "<p>5 rows × 53 columns</p>\n",
       "</div>"
      ],
      "text/plain": [
       "   Unique Key            Created Date    Closed Date Agency  \\\n",
       "0    32310363  12/31/2015 11:59:45 PM  01-01-16 0:55   NYPD   \n",
       "1    32309934  12/31/2015 11:59:44 PM  01-01-16 1:26   NYPD   \n",
       "2    32309159  12/31/2015 11:59:29 PM  01-01-16 4:51   NYPD   \n",
       "3    32305098  12/31/2015 11:57:46 PM  01-01-16 7:43   NYPD   \n",
       "4    32306529  12/31/2015 11:56:58 PM  01-01-16 3:24   NYPD   \n",
       "\n",
       "                       Agency Name           Complaint Type  \\\n",
       "0  New York City Police Department  Noise - Street/Sidewalk   \n",
       "1  New York City Police Department         Blocked Driveway   \n",
       "2  New York City Police Department         Blocked Driveway   \n",
       "3  New York City Police Department          Illegal Parking   \n",
       "4  New York City Police Department          Illegal Parking   \n",
       "\n",
       "                     Descriptor    Location Type  Incident Zip  \\\n",
       "0              Loud Music/Party  Street/Sidewalk       10034.0   \n",
       "1                     No Access  Street/Sidewalk       11105.0   \n",
       "2                     No Access  Street/Sidewalk       10458.0   \n",
       "3  Commercial Overnight Parking  Street/Sidewalk       10461.0   \n",
       "4              Blocked Sidewalk  Street/Sidewalk       11373.0   \n",
       "\n",
       "        Incident Address  ... Bridge Highway Name Bridge Highway Direction  \\\n",
       "0    71 VERMILYEA AVENUE  ...                 NaN                      NaN   \n",
       "1        27-07 23 AVENUE  ...                 NaN                      NaN   \n",
       "2  2897 VALENTINE AVENUE  ...                 NaN                      NaN   \n",
       "3    2940 BAISLEY AVENUE  ...                 NaN                      NaN   \n",
       "4          87-14 57 ROAD  ...                 NaN                      NaN   \n",
       "\n",
       "  Road Ramp Bridge Highway Segment Garage Lot Name Ferry Direction  \\\n",
       "0       NaN                    NaN             NaN             NaN   \n",
       "1       NaN                    NaN             NaN             NaN   \n",
       "2       NaN                    NaN             NaN             NaN   \n",
       "3       NaN                    NaN             NaN             NaN   \n",
       "4       NaN                    NaN             NaN             NaN   \n",
       "\n",
       "  Ferry Terminal Name   Latitude  Longitude  \\\n",
       "0                 NaN  40.865682 -73.923501   \n",
       "1                 NaN  40.775945 -73.915094   \n",
       "2                 NaN  40.870325 -73.888525   \n",
       "3                 NaN  40.835994 -73.828379   \n",
       "4                 NaN  40.733060 -73.874170   \n",
       "\n",
       "                                   Location  \n",
       "0   (40.86568153633767, -73.92350095571744)  \n",
       "1  (40.775945312321085, -73.91509393898605)  \n",
       "2  (40.870324522111424, -73.88852464418646)  \n",
       "3   (40.83599404683083, -73.82837939584206)  \n",
       "4  (40.733059618956815, -73.87416975810375)  \n",
       "\n",
       "[5 rows x 53 columns]"
      ]
     },
     "execution_count": 5,
     "metadata": {},
     "output_type": "execute_result"
    }
   ],
   "source": [
    "df.head()"
   ]
  },
  {
   "cell_type": "code",
   "execution_count": 6,
   "metadata": {},
   "outputs": [
    {
     "name": "stdout",
     "output_type": "stream",
     "text": [
      "<class 'pandas.core.frame.DataFrame'>\n",
      "RangeIndex: 300698 entries, 0 to 300697\n",
      "Data columns (total 53 columns):\n",
      " #   Column                          Non-Null Count   Dtype  \n",
      "---  ------                          --------------   -----  \n",
      " 0   Unique Key                      300698 non-null  int64  \n",
      " 1   Created Date                    300698 non-null  object \n",
      " 2   Closed Date                     298534 non-null  object \n",
      " 3   Agency                          300698 non-null  object \n",
      " 4   Agency Name                     300698 non-null  object \n",
      " 5   Complaint Type                  300698 non-null  object \n",
      " 6   Descriptor                      294784 non-null  object \n",
      " 7   Location Type                   300567 non-null  object \n",
      " 8   Incident Zip                    298083 non-null  float64\n",
      " 9   Incident Address                256288 non-null  object \n",
      " 10  Street Name                     256288 non-null  object \n",
      " 11  Cross Street 1                  251419 non-null  object \n",
      " 12  Cross Street 2                  250919 non-null  object \n",
      " 13  Intersection Street 1           43858 non-null   object \n",
      " 14  Intersection Street 2           43362 non-null   object \n",
      " 15  Address Type                    297883 non-null  object \n",
      " 16  City                            298084 non-null  object \n",
      " 17  Landmark                        349 non-null     object \n",
      " 18  Facility Type                   298527 non-null  object \n",
      " 19  Status                          300698 non-null  object \n",
      " 20  Due Date                        300695 non-null  object \n",
      " 21  Resolution Description          300698 non-null  object \n",
      " 22  Resolution Action Updated Date  298511 non-null  object \n",
      " 23  Community Board                 300698 non-null  object \n",
      " 24  Borough                         300698 non-null  object \n",
      " 25  X Coordinate (State Plane)      297158 non-null  float64\n",
      " 26  Y Coordinate (State Plane)      297158 non-null  float64\n",
      " 27  Park Facility Name              300698 non-null  object \n",
      " 28  Park Borough                    300698 non-null  object \n",
      " 29  School Name                     300698 non-null  object \n",
      " 30  School Number                   300698 non-null  object \n",
      " 31  School Region                   300697 non-null  object \n",
      " 32  School Code                     300697 non-null  object \n",
      " 33  School Phone Number             300698 non-null  object \n",
      " 34  School Address                  300698 non-null  object \n",
      " 35  School City                     300698 non-null  object \n",
      " 36  School State                    300698 non-null  object \n",
      " 37  School Zip                      300697 non-null  object \n",
      " 38  School Not Found                300698 non-null  object \n",
      " 39  School or Citywide Complaint    0 non-null       float64\n",
      " 40  Vehicle Type                    0 non-null       float64\n",
      " 41  Taxi Company Borough            0 non-null       float64\n",
      " 42  Taxi Pick Up Location           0 non-null       float64\n",
      " 43  Bridge Highway Name             243 non-null     object \n",
      " 44  Bridge Highway Direction        243 non-null     object \n",
      " 45  Road Ramp                       213 non-null     object \n",
      " 46  Bridge Highway Segment          213 non-null     object \n",
      " 47  Garage Lot Name                 0 non-null       float64\n",
      " 48  Ferry Direction                 1 non-null       object \n",
      " 49  Ferry Terminal Name             2 non-null       object \n",
      " 50  Latitude                        297158 non-null  float64\n",
      " 51  Longitude                       297158 non-null  float64\n",
      " 52  Location                        297158 non-null  object \n",
      "dtypes: float64(10), int64(1), object(42)\n",
      "memory usage: 121.6+ MB\n"
     ]
    }
   ],
   "source": [
    "df.info()"
   ]
  },
  {
   "cell_type": "code",
   "execution_count": 7,
   "metadata": {},
   "outputs": [
    {
     "data": {
      "text/plain": [
       "Unique Key                          0.000000\n",
       "Created Date                        0.000000\n",
       "Closed Date                         0.719659\n",
       "Agency                              0.000000\n",
       "Agency Name                         0.000000\n",
       "Complaint Type                      0.000000\n",
       "Descriptor                          1.966757\n",
       "Location Type                       0.043565\n",
       "Incident Zip                        0.869643\n",
       "Incident Address                   14.768971\n",
       "Street Name                        14.768971\n",
       "Cross Street 1                     16.388203\n",
       "Cross Street 2                     16.554483\n",
       "Intersection Street 1              85.414602\n",
       "Intersection Street 2              85.579552\n",
       "Address Type                        0.936155\n",
       "City                                0.869311\n",
       "Landmark                           99.883937\n",
       "Facility Type                       0.721987\n",
       "Status                              0.000000\n",
       "Due Date                            0.000998\n",
       "Resolution Description              0.000000\n",
       "Resolution Action Updated Date      0.727308\n",
       "Community Board                     0.000000\n",
       "Borough                             0.000000\n",
       "X Coordinate (State Plane)          1.177261\n",
       "Y Coordinate (State Plane)          1.177261\n",
       "Park Facility Name                  0.000000\n",
       "Park Borough                        0.000000\n",
       "School Name                         0.000000\n",
       "School Number                       0.000000\n",
       "School Region                       0.000333\n",
       "School Code                         0.000333\n",
       "School Phone Number                 0.000000\n",
       "School Address                      0.000000\n",
       "School City                         0.000000\n",
       "School State                        0.000000\n",
       "School Zip                          0.000333\n",
       "School Not Found                    0.000000\n",
       "School or Citywide Complaint      100.000000\n",
       "Vehicle Type                      100.000000\n",
       "Taxi Company Borough              100.000000\n",
       "Taxi Pick Up Location             100.000000\n",
       "Bridge Highway Name                99.919188\n",
       "Bridge Highway Direction           99.919188\n",
       "Road Ramp                          99.929165\n",
       "Bridge Highway Segment             99.929165\n",
       "Garage Lot Name                   100.000000\n",
       "Ferry Direction                    99.999667\n",
       "Ferry Terminal Name                99.999335\n",
       "Latitude                            1.177261\n",
       "Longitude                           1.177261\n",
       "Location                            1.177261\n",
       "dtype: float64"
      ]
     },
     "execution_count": 7,
     "metadata": {},
     "output_type": "execute_result"
    }
   ],
   "source": [
    "#checking the number of Nulls in each column\n",
    "df.isnull().sum()/len(df)*100"
   ]
  },
  {
   "cell_type": "code",
   "execution_count": 8,
   "metadata": {},
   "outputs": [
    {
     "name": "stdout",
     "output_type": "stream",
     "text": [
      "14 columns with more than 30% Nulls to be removed.\n",
      " Index(['Intersection Street 1', 'Intersection Street 2', 'Landmark',\n",
      "       'School or Citywide Complaint', 'Vehicle Type', 'Taxi Company Borough',\n",
      "       'Taxi Pick Up Location', 'Bridge Highway Name',\n",
      "       'Bridge Highway Direction', 'Road Ramp', 'Bridge Highway Segment',\n",
      "       'Garage Lot Name', 'Ferry Direction', 'Ferry Terminal Name'],\n",
      "      dtype='object')\n"
     ]
    }
   ],
   "source": [
    "#checking the number of Nulls more than 30%\n",
    "Nas_30 = df.loc[:,df.isnull().sum()/len(df)*100 >= 30]\n",
    "print(len(Nas_30.columns),'columns with more than 30% Nulls to be removed.\\n',Nas_30.keys())"
   ]
  },
  {
   "cell_type": "code",
   "execution_count": 9,
   "metadata": {},
   "outputs": [
    {
     "name": "stdout",
     "output_type": "stream",
     "text": [
      "Updated DataFrame - \n"
     ]
    },
    {
     "data": {
      "text/plain": [
       "(300698, 39)"
      ]
     },
     "execution_count": 9,
     "metadata": {},
     "output_type": "execute_result"
    }
   ],
   "source": [
    "# Retaining columns with less than 30% Nulls\n",
    "print('Updated DataFrame - ')\n",
    "df = df.loc[:,df.isnull().sum()/len(df)*100 <= 30]\n",
    "df.shape"
   ]
  },
  {
   "cell_type": "code",
   "execution_count": 10,
   "metadata": {},
   "outputs": [
    {
     "name": "stdout",
     "output_type": "stream",
     "text": [
      "Column:\"Incident Address\" nulls replaced with mode()\n",
      "Column:\"Street Name\" nulls replaced with mode()\n",
      "Column:\"Cross Street 1\" nulls replaced with mode()\n",
      "Column:\"Cross Street 2\" nulls replaced with mode()\n"
     ]
    }
   ],
   "source": [
    "# Checking for columns more than 5% Null\n",
    "Nas_5 = df.loc[:,df.isnull().sum()/len(df)*100 >5]\n",
    "\n",
    "for i in range(len(Nas_5.columns)):\n",
    "    df[Nas_5.columns[i]].fillna(value=df[Nas_5.columns[i]].mode()[0],inplace=True)\n",
    "    print('Column:\"{}\" nulls replaced with mode()'.format(Nas_5.columns[i]))"
   ]
  },
  {
   "cell_type": "code",
   "execution_count": 11,
   "metadata": {},
   "outputs": [
    {
     "data": {
      "text/plain": [
       "Index(['Closed Date', 'Descriptor', 'Location Type', 'Incident Zip',\n",
       "       'Address Type', 'City', 'Facility Type', 'Due Date',\n",
       "       'Resolution Action Updated Date', 'X Coordinate (State Plane)',\n",
       "       'Y Coordinate (State Plane)', 'School Region', 'School Code',\n",
       "       'School Zip', 'Latitude', 'Longitude', 'Location'],\n",
       "      dtype='object')"
      ]
     },
     "execution_count": 11,
     "metadata": {},
     "output_type": "execute_result"
    }
   ],
   "source": [
    "# Checking for columns with Nulls\n",
    "Nas_0 = df.loc[:,df.isnull().sum()/len(df)*100 >0]\n",
    "Nas_0.columns"
   ]
  },
  {
   "cell_type": "code",
   "execution_count": 12,
   "metadata": {},
   "outputs": [
    {
     "name": "stdout",
     "output_type": "stream",
     "text": [
      "<class 'pandas.core.frame.DataFrame'>\n",
      "Int64Index: 290881 entries, 0 to 300697\n",
      "Data columns (total 39 columns):\n",
      " #   Column                          Non-Null Count   Dtype  \n",
      "---  ------                          --------------   -----  \n",
      " 0   Unique Key                      290881 non-null  int64  \n",
      " 1   Created Date                    290881 non-null  object \n",
      " 2   Closed Date                     290881 non-null  object \n",
      " 3   Agency                          290881 non-null  object \n",
      " 4   Agency Name                     290881 non-null  object \n",
      " 5   Complaint Type                  290881 non-null  object \n",
      " 6   Descriptor                      290881 non-null  object \n",
      " 7   Location Type                   290881 non-null  object \n",
      " 8   Incident Zip                    290881 non-null  float64\n",
      " 9   Incident Address                290881 non-null  object \n",
      " 10  Street Name                     290881 non-null  object \n",
      " 11  Cross Street 1                  290881 non-null  object \n",
      " 12  Cross Street 2                  290881 non-null  object \n",
      " 13  Address Type                    290881 non-null  object \n",
      " 14  City                            290881 non-null  object \n",
      " 15  Facility Type                   290881 non-null  object \n",
      " 16  Status                          290881 non-null  object \n",
      " 17  Due Date                        290881 non-null  object \n",
      " 18  Resolution Description          290881 non-null  object \n",
      " 19  Resolution Action Updated Date  290881 non-null  object \n",
      " 20  Community Board                 290881 non-null  object \n",
      " 21  Borough                         290881 non-null  object \n",
      " 22  X Coordinate (State Plane)      290881 non-null  float64\n",
      " 23  Y Coordinate (State Plane)      290881 non-null  float64\n",
      " 24  Park Facility Name              290881 non-null  object \n",
      " 25  Park Borough                    290881 non-null  object \n",
      " 26  School Name                     290881 non-null  object \n",
      " 27  School Number                   290881 non-null  object \n",
      " 28  School Region                   290881 non-null  object \n",
      " 29  School Code                     290881 non-null  object \n",
      " 30  School Phone Number             290881 non-null  object \n",
      " 31  School Address                  290881 non-null  object \n",
      " 32  School City                     290881 non-null  object \n",
      " 33  School State                    290881 non-null  object \n",
      " 34  School Zip                      290881 non-null  object \n",
      " 35  School Not Found                290881 non-null  object \n",
      " 36  Latitude                        290881 non-null  float64\n",
      " 37  Longitude                       290881 non-null  float64\n",
      " 38  Location                        290881 non-null  object \n",
      "dtypes: float64(5), int64(1), object(33)\n",
      "memory usage: 88.8+ MB\n"
     ]
    }
   ],
   "source": [
    "#removing rows that have Nulls\n",
    "df.dropna(inplace=True)\n",
    "df.info()"
   ]
  },
  {
   "cell_type": "code",
   "execution_count": 13,
   "metadata": {},
   "outputs": [
    {
     "data": {
      "text/plain": [
       "(290881, 39)"
      ]
     },
     "execution_count": 13,
     "metadata": {},
     "output_type": "execute_result"
    }
   ],
   "source": [
    "df.shape"
   ]
  },
  {
   "cell_type": "code",
   "execution_count": 14,
   "metadata": {},
   "outputs": [
    {
     "name": "stdout",
     "output_type": "stream",
     "text": [
      "15 Columns with just 1 Unique value - \n",
      "\n",
      "1. School Not Found: ['N']\n",
      "2. School Zip: ['Unspecified']\n",
      "3. School State: ['Unspecified']\n",
      "4. School City: ['Unspecified']\n",
      "5. School Address: ['Unspecified']\n",
      "6. School Phone Number: ['Unspecified']\n",
      "7. School Code: ['Unspecified']\n",
      "8. School Region: ['Unspecified']\n",
      "9. School Number: ['Unspecified']\n",
      "10. School Name: ['Unspecified']\n",
      "11. Park Facility Name: ['Unspecified']\n",
      "12. Status: ['Closed']\n",
      "13. Facility Type: ['Precinct']\n",
      "14. Agency Name: ['New York City Police Department']\n",
      "15. Agency: ['NYPD']\n"
     ]
    }
   ],
   "source": [
    "#checking columns with irrelevant data\n",
    "Unique_df = pd.DataFrame()\n",
    "for i in range(len(df.columns)):\n",
    "    if len(df[df.columns[i]].unique())==1:\n",
    "        Unique_df.insert(0,df.columns[i],df[df.columns[i]])\n",
    "\n",
    "print(len(Unique_df.columns),'Columns with just 1 Unique value - \\n')\n",
    "for i in range(len(Unique_df.columns)):\n",
    "    if len(df[Unique_df.columns[i]].unique())==1:\n",
    "        print('{}. {}: {}'.format(i+1,Unique_df.columns[i],Unique_df[Unique_df.columns[i]].unique()))"
   ]
  },
  {
   "cell_type": "code",
   "execution_count": 15,
   "metadata": {
    "scrolled": true
   },
   "outputs": [
    {
     "name": "stdout",
     "output_type": "stream",
     "text": [
      "Dropping columns with just 1 Unique value - \n",
      "\n",
      "School Not Found\n",
      "School Zip\n",
      "School State\n",
      "School City\n",
      "School Address\n",
      "School Phone Number\n",
      "School Code\n",
      "School Region\n",
      "School Number\n",
      "School Name\n",
      "Park Facility Name\n",
      "Status\n",
      "Facility Type\n",
      "Agency Name\n",
      "Agency\n"
     ]
    }
   ],
   "source": [
    "#dropping columns with irrelevant data\n",
    "print('Dropping columns with just 1 Unique value - \\n')\n",
    "for i in range(len(Unique_df.columns)):\n",
    "    print(Unique_df.columns[i])\n",
    "    df.drop(labels=[Unique_df.columns[i]], axis=1, inplace=True)"
   ]
  },
  {
   "cell_type": "code",
   "execution_count": 16,
   "metadata": {},
   "outputs": [
    {
     "name": "stdout",
     "output_type": "stream",
     "text": [
      "<class 'pandas.core.frame.DataFrame'>\n",
      "Int64Index: 290881 entries, 0 to 300697\n",
      "Data columns (total 24 columns):\n",
      " #   Column                          Non-Null Count   Dtype  \n",
      "---  ------                          --------------   -----  \n",
      " 0   Unique Key                      290881 non-null  int64  \n",
      " 1   Created Date                    290881 non-null  object \n",
      " 2   Closed Date                     290881 non-null  object \n",
      " 3   Complaint Type                  290881 non-null  object \n",
      " 4   Descriptor                      290881 non-null  object \n",
      " 5   Location Type                   290881 non-null  object \n",
      " 6   Incident Zip                    290881 non-null  float64\n",
      " 7   Incident Address                290881 non-null  object \n",
      " 8   Street Name                     290881 non-null  object \n",
      " 9   Cross Street 1                  290881 non-null  object \n",
      " 10  Cross Street 2                  290881 non-null  object \n",
      " 11  Address Type                    290881 non-null  object \n",
      " 12  City                            290881 non-null  object \n",
      " 13  Due Date                        290881 non-null  object \n",
      " 14  Resolution Description          290881 non-null  object \n",
      " 15  Resolution Action Updated Date  290881 non-null  object \n",
      " 16  Community Board                 290881 non-null  object \n",
      " 17  Borough                         290881 non-null  object \n",
      " 18  X Coordinate (State Plane)      290881 non-null  float64\n",
      " 19  Y Coordinate (State Plane)      290881 non-null  float64\n",
      " 20  Park Borough                    290881 non-null  object \n",
      " 21  Latitude                        290881 non-null  float64\n",
      " 22  Longitude                       290881 non-null  float64\n",
      " 23  Location                        290881 non-null  object \n",
      "dtypes: float64(5), int64(1), object(18)\n",
      "memory usage: 55.5+ MB\n"
     ]
    }
   ],
   "source": [
    "df.info()"
   ]
  },
  {
   "cell_type": "code",
   "execution_count": 17,
   "metadata": {},
   "outputs": [
    {
     "data": {
      "text/plain": [
       "(290881, 24)"
      ]
     },
     "execution_count": 17,
     "metadata": {},
     "output_type": "execute_result"
    }
   ],
   "source": [
    "df.shape"
   ]
  },
  {
   "cell_type": "markdown",
   "metadata": {},
   "source": [
    "># <font color=green>2. Read or convert the columns <font color=blue>‘Created Date’</font> and <font color=blue>'Closed Date’</font> to datetime datatype and create a new column <font color=blue>‘Request_Closing_Time’</font> as the time elapsed between request creation and request closing. </font>\n",
    ">#### (Hint: Explore the package/module datetime)"
   ]
  },
  {
   "cell_type": "code",
   "execution_count": 18,
   "metadata": {},
   "outputs": [],
   "source": [
    "#converting string to datetime objects\n",
    "df['Created Date'] = pd.to_datetime(df['Created Date'])\n",
    "df['Closed Date'] = pd.to_datetime(df['Closed Date'])\n",
    "df['Due Date'] = pd.to_datetime(df['Due Date'])\n",
    "df['Resolution Action Updated Date'] = pd.to_datetime(df['Resolution Action Updated Date'])"
   ]
  },
  {
   "cell_type": "code",
   "execution_count": 19,
   "metadata": {},
   "outputs": [
    {
     "name": "stdout",
     "output_type": "stream",
     "text": [
      "<class 'pandas.core.frame.DataFrame'>\n",
      "Int64Index: 290881 entries, 0 to 300697\n",
      "Data columns (total 24 columns):\n",
      " #   Column                          Non-Null Count   Dtype         \n",
      "---  ------                          --------------   -----         \n",
      " 0   Unique Key                      290881 non-null  int64         \n",
      " 1   Created Date                    290881 non-null  datetime64[ns]\n",
      " 2   Closed Date                     290881 non-null  datetime64[ns]\n",
      " 3   Complaint Type                  290881 non-null  object        \n",
      " 4   Descriptor                      290881 non-null  object        \n",
      " 5   Location Type                   290881 non-null  object        \n",
      " 6   Incident Zip                    290881 non-null  float64       \n",
      " 7   Incident Address                290881 non-null  object        \n",
      " 8   Street Name                     290881 non-null  object        \n",
      " 9   Cross Street 1                  290881 non-null  object        \n",
      " 10  Cross Street 2                  290881 non-null  object        \n",
      " 11  Address Type                    290881 non-null  object        \n",
      " 12  City                            290881 non-null  object        \n",
      " 13  Due Date                        290881 non-null  datetime64[ns]\n",
      " 14  Resolution Description          290881 non-null  object        \n",
      " 15  Resolution Action Updated Date  290881 non-null  datetime64[ns]\n",
      " 16  Community Board                 290881 non-null  object        \n",
      " 17  Borough                         290881 non-null  object        \n",
      " 18  X Coordinate (State Plane)      290881 non-null  float64       \n",
      " 19  Y Coordinate (State Plane)      290881 non-null  float64       \n",
      " 20  Park Borough                    290881 non-null  object        \n",
      " 21  Latitude                        290881 non-null  float64       \n",
      " 22  Longitude                       290881 non-null  float64       \n",
      " 23  Location                        290881 non-null  object        \n",
      "dtypes: datetime64[ns](4), float64(5), int64(1), object(14)\n",
      "memory usage: 55.5+ MB\n"
     ]
    }
   ],
   "source": [
    "df.info()"
   ]
  },
  {
   "cell_type": "code",
   "execution_count": 20,
   "metadata": {},
   "outputs": [],
   "source": [
    "df['Request_Closing_Time']=(df['Closed Date']-df['Created Date']).dt.seconds/60"
   ]
  },
  {
   "cell_type": "code",
   "execution_count": 21,
   "metadata": {},
   "outputs": [
    {
     "data": {
      "text/html": [
       "<div>\n",
       "<style scoped>\n",
       "    .dataframe tbody tr th:only-of-type {\n",
       "        vertical-align: middle;\n",
       "    }\n",
       "\n",
       "    .dataframe tbody tr th {\n",
       "        vertical-align: top;\n",
       "    }\n",
       "\n",
       "    .dataframe thead th {\n",
       "        text-align: right;\n",
       "    }\n",
       "</style>\n",
       "<table border=\"1\" class=\"dataframe\">\n",
       "  <thead>\n",
       "    <tr style=\"text-align: right;\">\n",
       "      <th></th>\n",
       "      <th>Unique Key</th>\n",
       "      <th>Created Date</th>\n",
       "      <th>Closed Date</th>\n",
       "      <th>Complaint Type</th>\n",
       "      <th>Descriptor</th>\n",
       "      <th>Location Type</th>\n",
       "      <th>Incident Zip</th>\n",
       "      <th>Incident Address</th>\n",
       "      <th>Street Name</th>\n",
       "      <th>Cross Street 1</th>\n",
       "      <th>...</th>\n",
       "      <th>Resolution Action Updated Date</th>\n",
       "      <th>Community Board</th>\n",
       "      <th>Borough</th>\n",
       "      <th>X Coordinate (State Plane)</th>\n",
       "      <th>Y Coordinate (State Plane)</th>\n",
       "      <th>Park Borough</th>\n",
       "      <th>Latitude</th>\n",
       "      <th>Longitude</th>\n",
       "      <th>Location</th>\n",
       "      <th>Request_Closing_Time</th>\n",
       "    </tr>\n",
       "  </thead>\n",
       "  <tbody>\n",
       "    <tr>\n",
       "      <th>0</th>\n",
       "      <td>32310363</td>\n",
       "      <td>2015-12-31 23:59:45</td>\n",
       "      <td>2016-01-01 00:55:00</td>\n",
       "      <td>Noise - Street/Sidewalk</td>\n",
       "      <td>Loud Music/Party</td>\n",
       "      <td>Street/Sidewalk</td>\n",
       "      <td>10034.0</td>\n",
       "      <td>71 VERMILYEA AVENUE</td>\n",
       "      <td>VERMILYEA AVENUE</td>\n",
       "      <td>ACADEMY STREET</td>\n",
       "      <td>...</td>\n",
       "      <td>2016-01-01 00:55:00</td>\n",
       "      <td>12 MANHATTAN</td>\n",
       "      <td>MANHATTAN</td>\n",
       "      <td>1005409.0</td>\n",
       "      <td>254678.0</td>\n",
       "      <td>MANHATTAN</td>\n",
       "      <td>40.865682</td>\n",
       "      <td>-73.923501</td>\n",
       "      <td>(40.86568153633767, -73.92350095571744)</td>\n",
       "      <td>55.250000</td>\n",
       "    </tr>\n",
       "    <tr>\n",
       "      <th>1</th>\n",
       "      <td>32309934</td>\n",
       "      <td>2015-12-31 23:59:44</td>\n",
       "      <td>2016-01-01 01:26:00</td>\n",
       "      <td>Blocked Driveway</td>\n",
       "      <td>No Access</td>\n",
       "      <td>Street/Sidewalk</td>\n",
       "      <td>11105.0</td>\n",
       "      <td>27-07 23 AVENUE</td>\n",
       "      <td>23 AVENUE</td>\n",
       "      <td>27 STREET</td>\n",
       "      <td>...</td>\n",
       "      <td>2016-01-01 01:26:00</td>\n",
       "      <td>01 QUEENS</td>\n",
       "      <td>QUEENS</td>\n",
       "      <td>1007766.0</td>\n",
       "      <td>221986.0</td>\n",
       "      <td>QUEENS</td>\n",
       "      <td>40.775945</td>\n",
       "      <td>-73.915094</td>\n",
       "      <td>(40.775945312321085, -73.91509393898605)</td>\n",
       "      <td>86.266667</td>\n",
       "    </tr>\n",
       "    <tr>\n",
       "      <th>2</th>\n",
       "      <td>32309159</td>\n",
       "      <td>2015-12-31 23:59:29</td>\n",
       "      <td>2016-01-01 04:51:00</td>\n",
       "      <td>Blocked Driveway</td>\n",
       "      <td>No Access</td>\n",
       "      <td>Street/Sidewalk</td>\n",
       "      <td>10458.0</td>\n",
       "      <td>2897 VALENTINE AVENUE</td>\n",
       "      <td>VALENTINE AVENUE</td>\n",
       "      <td>EAST 198 STREET</td>\n",
       "      <td>...</td>\n",
       "      <td>2016-01-01 04:51:00</td>\n",
       "      <td>07 BRONX</td>\n",
       "      <td>BRONX</td>\n",
       "      <td>1015081.0</td>\n",
       "      <td>256380.0</td>\n",
       "      <td>BRONX</td>\n",
       "      <td>40.870325</td>\n",
       "      <td>-73.888525</td>\n",
       "      <td>(40.870324522111424, -73.88852464418646)</td>\n",
       "      <td>291.516667</td>\n",
       "    </tr>\n",
       "    <tr>\n",
       "      <th>3</th>\n",
       "      <td>32305098</td>\n",
       "      <td>2015-12-31 23:57:46</td>\n",
       "      <td>2016-01-01 07:43:00</td>\n",
       "      <td>Illegal Parking</td>\n",
       "      <td>Commercial Overnight Parking</td>\n",
       "      <td>Street/Sidewalk</td>\n",
       "      <td>10461.0</td>\n",
       "      <td>2940 BAISLEY AVENUE</td>\n",
       "      <td>BAISLEY AVENUE</td>\n",
       "      <td>EDISON AVENUE</td>\n",
       "      <td>...</td>\n",
       "      <td>2016-01-01 07:43:00</td>\n",
       "      <td>10 BRONX</td>\n",
       "      <td>BRONX</td>\n",
       "      <td>1031740.0</td>\n",
       "      <td>243899.0</td>\n",
       "      <td>BRONX</td>\n",
       "      <td>40.835994</td>\n",
       "      <td>-73.828379</td>\n",
       "      <td>(40.83599404683083, -73.82837939584206)</td>\n",
       "      <td>465.233333</td>\n",
       "    </tr>\n",
       "    <tr>\n",
       "      <th>4</th>\n",
       "      <td>32306529</td>\n",
       "      <td>2015-12-31 23:56:58</td>\n",
       "      <td>2016-01-01 03:24:00</td>\n",
       "      <td>Illegal Parking</td>\n",
       "      <td>Blocked Sidewalk</td>\n",
       "      <td>Street/Sidewalk</td>\n",
       "      <td>11373.0</td>\n",
       "      <td>87-14 57 ROAD</td>\n",
       "      <td>57 ROAD</td>\n",
       "      <td>SEABURY STREET</td>\n",
       "      <td>...</td>\n",
       "      <td>2016-01-01 03:24:00</td>\n",
       "      <td>04 QUEENS</td>\n",
       "      <td>QUEENS</td>\n",
       "      <td>1019123.0</td>\n",
       "      <td>206375.0</td>\n",
       "      <td>QUEENS</td>\n",
       "      <td>40.733060</td>\n",
       "      <td>-73.874170</td>\n",
       "      <td>(40.733059618956815, -73.87416975810375)</td>\n",
       "      <td>207.033333</td>\n",
       "    </tr>\n",
       "  </tbody>\n",
       "</table>\n",
       "<p>5 rows × 25 columns</p>\n",
       "</div>"
      ],
      "text/plain": [
       "   Unique Key        Created Date         Closed Date  \\\n",
       "0    32310363 2015-12-31 23:59:45 2016-01-01 00:55:00   \n",
       "1    32309934 2015-12-31 23:59:44 2016-01-01 01:26:00   \n",
       "2    32309159 2015-12-31 23:59:29 2016-01-01 04:51:00   \n",
       "3    32305098 2015-12-31 23:57:46 2016-01-01 07:43:00   \n",
       "4    32306529 2015-12-31 23:56:58 2016-01-01 03:24:00   \n",
       "\n",
       "            Complaint Type                    Descriptor    Location Type  \\\n",
       "0  Noise - Street/Sidewalk              Loud Music/Party  Street/Sidewalk   \n",
       "1         Blocked Driveway                     No Access  Street/Sidewalk   \n",
       "2         Blocked Driveway                     No Access  Street/Sidewalk   \n",
       "3          Illegal Parking  Commercial Overnight Parking  Street/Sidewalk   \n",
       "4          Illegal Parking              Blocked Sidewalk  Street/Sidewalk   \n",
       "\n",
       "   Incident Zip       Incident Address       Street Name   Cross Street 1  \\\n",
       "0       10034.0    71 VERMILYEA AVENUE  VERMILYEA AVENUE   ACADEMY STREET   \n",
       "1       11105.0        27-07 23 AVENUE         23 AVENUE        27 STREET   \n",
       "2       10458.0  2897 VALENTINE AVENUE  VALENTINE AVENUE  EAST 198 STREET   \n",
       "3       10461.0    2940 BAISLEY AVENUE    BAISLEY AVENUE    EDISON AVENUE   \n",
       "4       11373.0          87-14 57 ROAD           57 ROAD   SEABURY STREET   \n",
       "\n",
       "   ... Resolution Action Updated Date Community Board    Borough  \\\n",
       "0  ...            2016-01-01 00:55:00    12 MANHATTAN  MANHATTAN   \n",
       "1  ...            2016-01-01 01:26:00       01 QUEENS     QUEENS   \n",
       "2  ...            2016-01-01 04:51:00        07 BRONX      BRONX   \n",
       "3  ...            2016-01-01 07:43:00        10 BRONX      BRONX   \n",
       "4  ...            2016-01-01 03:24:00       04 QUEENS     QUEENS   \n",
       "\n",
       "  X Coordinate (State Plane) Y Coordinate (State Plane) Park Borough  \\\n",
       "0                  1005409.0                   254678.0    MANHATTAN   \n",
       "1                  1007766.0                   221986.0       QUEENS   \n",
       "2                  1015081.0                   256380.0        BRONX   \n",
       "3                  1031740.0                   243899.0        BRONX   \n",
       "4                  1019123.0                   206375.0       QUEENS   \n",
       "\n",
       "    Latitude  Longitude                                  Location  \\\n",
       "0  40.865682 -73.923501   (40.86568153633767, -73.92350095571744)   \n",
       "1  40.775945 -73.915094  (40.775945312321085, -73.91509393898605)   \n",
       "2  40.870325 -73.888525  (40.870324522111424, -73.88852464418646)   \n",
       "3  40.835994 -73.828379   (40.83599404683083, -73.82837939584206)   \n",
       "4  40.733060 -73.874170  (40.733059618956815, -73.87416975810375)   \n",
       "\n",
       "   Request_Closing_Time  \n",
       "0             55.250000  \n",
       "1             86.266667  \n",
       "2            291.516667  \n",
       "3            465.233333  \n",
       "4            207.033333  \n",
       "\n",
       "[5 rows x 25 columns]"
      ]
     },
     "execution_count": 21,
     "metadata": {},
     "output_type": "execute_result"
    }
   ],
   "source": [
    "df.head()"
   ]
  },
  {
   "cell_type": "code",
   "execution_count": 22,
   "metadata": {},
   "outputs": [
    {
     "data": {
      "text/plain": [
       "235.52529184328264"
      ]
     },
     "execution_count": 22,
     "metadata": {},
     "output_type": "execute_result"
    }
   ],
   "source": [
    "df['Request_Closing_Time'].mean()"
   ]
  },
  {
   "cell_type": "markdown",
   "metadata": {},
   "source": [
    "># <font color=green>3. Provide major insights/patterns that you can offer in a visual format (graphs or tables); at least 4 major conclusions that you can come up with after generic data mining.</font>"
   ]
  },
  {
   "cell_type": "markdown",
   "metadata": {},
   "source": [
    "#### 1) How quickly the cases were closed"
   ]
  },
  {
   "cell_type": "code",
   "execution_count": 23,
   "metadata": {
    "scrolled": false
   },
   "outputs": [
    {
     "data": {
      "image/png": "[encoded data removed]",
      "text/plain": [
       "<Figure size 1080x576 with 1 Axes>"
      ]
     },
     "metadata": {
      "needs_background": "light"
     },
     "output_type": "display_data"
    }
   ],
   "source": [
    "# Distribution of time taken to close the cases\n",
    "plt.figure(figsize=(15,8))\n",
    "sns.distplot(df['Request_Closing_Time'],kde=False,color='g')\n",
    "plt.title('Histogram showing how quickly the cases were closed')\n",
    "plt.xlabel('Request Closing time (mins)')\n",
    "plt.grid()\n",
    "plt.show()"
   ]
  },
  {
   "cell_type": "markdown",
   "metadata": {},
   "source": [
    "<font color=blue>***Conclusion - Most of the cases were closed within 200 mins***"
   ]
  },
  {
   "cell_type": "markdown",
   "metadata": {},
   "source": [
    "#### 2) Spread of request closing time"
   ]
  },
  {
   "cell_type": "code",
   "execution_count": 24,
   "metadata": {},
   "outputs": [
    {
     "data": {
      "text/plain": [
       "<Figure size 1440x720 with 0 Axes>"
      ]
     },
     "metadata": {},
     "output_type": "display_data"
    },
    {
     "data": {
      "image/png": "[encoded data removed]",
      "text/plain": [
       "<Figure size 1080x360 with 1 Axes>"
      ]
     },
     "metadata": {
      "needs_background": "light"
     },
     "output_type": "display_data"
    }
   ],
   "source": [
    "# box plot to find how the request closing time is spread\n",
    "plt.figure(figsize=(20,10))\n",
    "sns.catplot(x='Request_Closing_Time',data=df,kind='box',aspect=3, color='orange')\n",
    "plt.xlabel('Request Closing time (mins)')\n",
    "plt.title('Spread of Request Closing time (mins)')\n",
    "plt.grid()\n",
    "plt.show()"
   ]
  },
  {
   "cell_type": "markdown",
   "metadata": {},
   "source": [
    "<font color=blue>***Conclusion - The box plot proves that the range of closing cases is from 75 to 325 with a mean around 175 mins***"
   ]
  },
  {
   "cell_type": "markdown",
   "metadata": {},
   "source": [
    "#### 3) Different types of complaints"
   ]
  },
  {
   "cell_type": "code",
   "execution_count": 25,
   "metadata": {},
   "outputs": [
    {
     "data": {
      "image/png": "[encoded data removed]",
      "text/plain": [
       "<Figure size 720x720 with 1 Axes>"
      ]
     },
     "metadata": {
      "needs_background": "light"
     },
     "output_type": "display_data"
    }
   ],
   "source": [
    "#To see how many types of complaints are registered\n",
    "complaints = df['Complaint Type'].value_counts().sort_values()\n",
    "plt.figure(figsize=(10,10))\n",
    "complaints.plot(kind='barh',grid=True,color='black',fontsize=15)\n",
    "plt.title('Different Types of Complaints')\n",
    "plt.xlabel('No. of cases')\n",
    "plt.show()"
   ]
  },
  {
   "cell_type": "markdown",
   "metadata": {},
   "source": [
    "<font color=blue>***Conclusion - Most of the cases are from Blocked Driveway, Illegal Parking and Noise***"
   ]
  },
  {
   "cell_type": "markdown",
   "metadata": {},
   "source": [
    "#### 4) Top 5 Locations types"
   ]
  },
  {
   "cell_type": "code",
   "execution_count": 26,
   "metadata": {},
   "outputs": [
    {
     "data": {
      "image/png": "[encoded data removed]",
      "text/plain": [
       "<Figure size 720x720 with 1 Axes>"
      ]
     },
     "metadata": {
      "needs_background": "light"
     },
     "output_type": "display_data"
    }
   ],
   "source": [
    "#Focus on the top locations where the complaints are registered\n",
    "location = df['Location Type'].value_counts().sort_values(ascending = False).head().sort_values()\n",
    "plt.figure(figsize=(10,10))\n",
    "location.plot(kind='barh',grid=True,color='black',fontsize=15)\n",
    "plt.title('Top 5 Location Types')\n",
    "plt.xlabel('No. of cases')\n",
    "plt.show()"
   ]
  },
  {
   "cell_type": "markdown",
   "metadata": {},
   "source": [
    "<font color=blue>***Conclusion - Most of the complaints are from Street/Sidewalk***\n"
   ]
  },
  {
   "cell_type": "code",
   "execution_count": 27,
   "metadata": {
    "scrolled": true
   },
   "outputs": [
    {
     "data": {
      "text/plain": [
       "BROOKLYN         96814\n",
       "NEW YORK         61867\n",
       "BRONX            40182\n",
       "STATEN ISLAND    12186\n",
       "JAMAICA           7144\n",
       "Name: City, dtype: int64"
      ]
     },
     "execution_count": 27,
     "metadata": {},
     "output_type": "execute_result"
    }
   ],
   "source": [
    "#Top 5 cities with complaints\n",
    "top_cities = df['City'].value_counts().head()\n",
    "top_cities"
   ]
  },
  {
   "cell_type": "code",
   "execution_count": 28,
   "metadata": {},
   "outputs": [
    {
     "data": {
      "text/html": [
       "<div>\n",
       "<style scoped>\n",
       "    .dataframe tbody tr th:only-of-type {\n",
       "        vertical-align: middle;\n",
       "    }\n",
       "\n",
       "    .dataframe tbody tr th {\n",
       "        vertical-align: top;\n",
       "    }\n",
       "\n",
       "    .dataframe thead th {\n",
       "        text-align: right;\n",
       "    }\n",
       "</style>\n",
       "<table border=\"1\" class=\"dataframe\">\n",
       "  <thead>\n",
       "    <tr style=\"text-align: right;\">\n",
       "      <th></th>\n",
       "      <th>City</th>\n",
       "      <th>count</th>\n",
       "    </tr>\n",
       "  </thead>\n",
       "  <tbody>\n",
       "    <tr>\n",
       "      <th>0</th>\n",
       "      <td>BROOKLYN</td>\n",
       "      <td>96814</td>\n",
       "    </tr>\n",
       "    <tr>\n",
       "      <th>1</th>\n",
       "      <td>NEW YORK</td>\n",
       "      <td>61867</td>\n",
       "    </tr>\n",
       "    <tr>\n",
       "      <th>2</th>\n",
       "      <td>BRONX</td>\n",
       "      <td>40182</td>\n",
       "    </tr>\n",
       "    <tr>\n",
       "      <th>3</th>\n",
       "      <td>STATEN ISLAND</td>\n",
       "      <td>12186</td>\n",
       "    </tr>\n",
       "    <tr>\n",
       "      <th>4</th>\n",
       "      <td>JAMAICA</td>\n",
       "      <td>7144</td>\n",
       "    </tr>\n",
       "  </tbody>\n",
       "</table>\n",
       "</div>"
      ],
      "text/plain": [
       "            City  count\n",
       "0       BROOKLYN  96814\n",
       "1       NEW YORK  61867\n",
       "2          BRONX  40182\n",
       "3  STATEN ISLAND  12186\n",
       "4        JAMAICA   7144"
      ]
     },
     "execution_count": 28,
     "metadata": {},
     "output_type": "execute_result"
    }
   ],
   "source": [
    "top_comp_cities = df.groupby('City')\n",
    "top_comp_cities = top_comp_cities.size().sort_values(ascending = False)\n",
    "top_comp_cities = top_comp_cities.to_frame('count').reset_index()\n",
    "top_comp_cities.head()"
   ]
  },
  {
   "cell_type": "markdown",
   "metadata": {},
   "source": [
    "#### 5) Top 5 NY Cities with Complaints"
   ]
  },
  {
   "cell_type": "code",
   "execution_count": 29,
   "metadata": {},
   "outputs": [
    {
     "data": {
      "image/png": "[encoded data removed]",
      "text/plain": [
       "<Figure size 720x720 with 1 Axes>"
      ]
     },
     "metadata": {},
     "output_type": "display_data"
    }
   ],
   "source": [
    "colors = ['#faf3dd', '#c8d5b9', '#8fc0a9', '#68b0ab', '#4a7c59']\n",
    "top_comp_cities = top_comp_cities.head()\n",
    "plt.figure(figsize=(10,10))\n",
    "plt.pie(top_comp_cities['count'],\n",
    "        labels=top_comp_cities['City'],\n",
    "        autopct=\"%1.1f%%\",\n",
    "        startangle = 90,\n",
    "        colors=colors,\n",
    "       pctdistance=0.80)\n",
    "\n",
    "centre_circle = plt.Circle((0,0),0.60,fc='white')\n",
    "fig = plt.gcf()\n",
    "fig.gca().add_artist(centre_circle)\n",
    "\n",
    "plt.title('Top 5 NY Cities with Complaints')\n",
    "plt.show()"
   ]
  },
  {
   "cell_type": "markdown",
   "metadata": {},
   "source": [
    "<font color=blue>***Conclusion - Brooklyn and New York are the top 2 cities from which the most complaints come from.***"
   ]
  },
  {
   "cell_type": "code",
   "execution_count": 30,
   "metadata": {},
   "outputs": [
    {
     "name": "stdout",
     "output_type": "stream",
     "text": [
      "Blocked Driveway           76675\n",
      "Illegal Parking            74020\n",
      "Noise - Street/Sidewalk    47745\n",
      "Noise - Commercial         35144\n",
      "Derelict Vehicle           17496\n",
      "Noise - Vehicle            16867\n",
      "Name: Complaint Type, dtype: int64\n"
     ]
    },
    {
     "data": {
      "text/plain": [
       "array(['Blocked Driveway', 'Illegal Parking', 'Noise - Street/Sidewalk',\n",
       "       'Noise - Commercial', 'Derelict Vehicle', 'Noise - Vehicle'],\n",
       "      dtype=object)"
      ]
     },
     "execution_count": 30,
     "metadata": {},
     "output_type": "execute_result"
    }
   ],
   "source": [
    "# Top 6 Complaints received\n",
    "top_complaints = df['Complaint Type'].value_counts().head(6)\n",
    "print(top_complaints)\n",
    "top_complaints_name = top_complaints.index.values\n",
    "top_complaints_name"
   ]
  },
  {
   "cell_type": "code",
   "execution_count": 31,
   "metadata": {},
   "outputs": [
    {
     "data": {
      "text/plain": [
       "array(['MANHATTAN', 'QUEENS', 'BRONX', 'BROOKLYN', 'STATEN ISLAND'],\n",
       "      dtype=object)"
      ]
     },
     "execution_count": 31,
     "metadata": {},
     "output_type": "execute_result"
    }
   ],
   "source": [
    "df['Borough'].unique()"
   ]
  },
  {
   "cell_type": "code",
   "execution_count": 32,
   "metadata": {
    "scrolled": true
   },
   "outputs": [
    {
     "data": {
      "text/html": [
       "<div>\n",
       "<style scoped>\n",
       "    .dataframe tbody tr th:only-of-type {\n",
       "        vertical-align: middle;\n",
       "    }\n",
       "\n",
       "    .dataframe tbody tr th {\n",
       "        vertical-align: top;\n",
       "    }\n",
       "\n",
       "    .dataframe thead th {\n",
       "        text-align: right;\n",
       "    }\n",
       "</style>\n",
       "<table border=\"1\" class=\"dataframe\">\n",
       "  <thead>\n",
       "    <tr style=\"text-align: right;\">\n",
       "      <th>Complaint Type</th>\n",
       "      <th>Blocked Driveway</th>\n",
       "      <th>Illegal Parking</th>\n",
       "      <th>Noise - Street/Sidewalk</th>\n",
       "      <th>Noise - Commercial</th>\n",
       "      <th>Derelict Vehicle</th>\n",
       "      <th>Noise - Vehicle</th>\n",
       "    </tr>\n",
       "    <tr>\n",
       "      <th>Borough</th>\n",
       "      <th></th>\n",
       "      <th></th>\n",
       "      <th></th>\n",
       "      <th></th>\n",
       "      <th></th>\n",
       "      <th></th>\n",
       "    </tr>\n",
       "  </thead>\n",
       "  <tbody>\n",
       "    <tr>\n",
       "      <th>BRONX</th>\n",
       "      <td>12740</td>\n",
       "      <td>7829</td>\n",
       "      <td>8864</td>\n",
       "      <td>2431</td>\n",
       "      <td>1947</td>\n",
       "      <td>3385</td>\n",
       "    </tr>\n",
       "    <tr>\n",
       "      <th>BROOKLYN</th>\n",
       "      <td>28119</td>\n",
       "      <td>27386</td>\n",
       "      <td>13315</td>\n",
       "      <td>11451</td>\n",
       "      <td>5161</td>\n",
       "      <td>5145</td>\n",
       "    </tr>\n",
       "    <tr>\n",
       "      <th>MANHATTAN</th>\n",
       "      <td>2055</td>\n",
       "      <td>11980</td>\n",
       "      <td>20360</td>\n",
       "      <td>14528</td>\n",
       "      <td>528</td>\n",
       "      <td>5374</td>\n",
       "    </tr>\n",
       "    <tr>\n",
       "      <th>QUEENS</th>\n",
       "      <td>31620</td>\n",
       "      <td>21944</td>\n",
       "      <td>4391</td>\n",
       "      <td>6057</td>\n",
       "      <td>8098</td>\n",
       "      <td>2607</td>\n",
       "    </tr>\n",
       "    <tr>\n",
       "      <th>STATEN ISLAND</th>\n",
       "      <td>2141</td>\n",
       "      <td>4881</td>\n",
       "      <td>815</td>\n",
       "      <td>677</td>\n",
       "      <td>1762</td>\n",
       "      <td>356</td>\n",
       "    </tr>\n",
       "  </tbody>\n",
       "</table>\n",
       "</div>"
      ],
      "text/plain": [
       "Complaint Type  Blocked Driveway  Illegal Parking  Noise - Street/Sidewalk  \\\n",
       "Borough                                                                      \n",
       "BRONX                      12740             7829                     8864   \n",
       "BROOKLYN                   28119            27386                    13315   \n",
       "MANHATTAN                   2055            11980                    20360   \n",
       "QUEENS                     31620            21944                     4391   \n",
       "STATEN ISLAND               2141             4881                      815   \n",
       "\n",
       "Complaint Type  Noise - Commercial  Derelict Vehicle  Noise - Vehicle  \n",
       "Borough                                                                \n",
       "BRONX                         2431              1947             3385  \n",
       "BROOKLYN                     11451              5161             5145  \n",
       "MANHATTAN                    14528               528             5374  \n",
       "QUEENS                        6057              8098             2607  \n",
       "STATEN ISLAND                  677              1762              356  "
      ]
     },
     "execution_count": 32,
     "metadata": {},
     "output_type": "execute_result"
    }
   ],
   "source": [
    "borough_complaints = df.groupby(['Borough','Complaint Type']).size().unstack()\n",
    "borough_complaints = borough_complaints[top_complaints_name]\n",
    "borough_complaints"
   ]
  },
  {
   "cell_type": "markdown",
   "metadata": {},
   "source": [
    "#### 6) Top 6 Complaints stacked in each of the Boroughs"
   ]
  },
  {
   "cell_type": "code",
   "execution_count": 33,
   "metadata": {},
   "outputs": [
    {
     "data": {
      "image/png": "[encoded data removed]",
      "text/plain": [
       "<Figure size 1440x720 with 6 Axes>"
      ]
     },
     "metadata": {
      "needs_background": "light"
     },
     "output_type": "display_data"
    }
   ],
   "source": [
    "cols = 3\n",
    "rows = 2\n",
    "fig, ax = plt.subplots(rows, cols, figsize=(20,10))\n",
    "\n",
    "for i, (title, col) in enumerate(borough_complaints.iteritems()):\n",
    "    axis = ax[int(i/cols), i%cols]\n",
    "    col = col.sort_values(ascending=True)[:15]\n",
    "    col.plot(kind='barh', ax=axis, grid=True, color='black')\n",
    "    axis.set_title(title)\n",
    "\n",
    "plt.tight_layout()"
   ]
  },
  {
   "cell_type": "markdown",
   "metadata": {},
   "source": [
    "<font color=blue>***Conclusion - Manhattan receives more complaints on Noise***"
   ]
  },
  {
   "cell_type": "markdown",
   "metadata": {},
   "source": [
    "># <font color=green>4. Order the complaint types based on the average <font color=blue>‘Request_Closing_Time’</font>, grouping them for different locations.</font>"
   ]
  },
  {
   "cell_type": "code",
   "execution_count": 34,
   "metadata": {},
   "outputs": [
    {
     "data": {
      "text/html": [
       "<div>\n",
       "<style scoped>\n",
       "    .dataframe tbody tr th:only-of-type {\n",
       "        vertical-align: middle;\n",
       "    }\n",
       "\n",
       "    .dataframe tbody tr th {\n",
       "        vertical-align: top;\n",
       "    }\n",
       "\n",
       "    .dataframe thead th {\n",
       "        text-align: right;\n",
       "    }\n",
       "</style>\n",
       "<table border=\"1\" class=\"dataframe\">\n",
       "  <thead>\n",
       "    <tr style=\"text-align: right;\">\n",
       "      <th></th>\n",
       "      <th>City</th>\n",
       "      <th>Complaint Type</th>\n",
       "      <th>Request_Closing_Time</th>\n",
       "    </tr>\n",
       "  </thead>\n",
       "  <tbody>\n",
       "    <tr>\n",
       "      <th>0</th>\n",
       "      <td>NEW YORK</td>\n",
       "      <td>Noise - Street/Sidewalk</td>\n",
       "      <td>55.250000</td>\n",
       "    </tr>\n",
       "    <tr>\n",
       "      <th>1</th>\n",
       "      <td>ASTORIA</td>\n",
       "      <td>Blocked Driveway</td>\n",
       "      <td>86.266667</td>\n",
       "    </tr>\n",
       "    <tr>\n",
       "      <th>2</th>\n",
       "      <td>BRONX</td>\n",
       "      <td>Blocked Driveway</td>\n",
       "      <td>291.516667</td>\n",
       "    </tr>\n",
       "    <tr>\n",
       "      <th>3</th>\n",
       "      <td>BRONX</td>\n",
       "      <td>Illegal Parking</td>\n",
       "      <td>465.233333</td>\n",
       "    </tr>\n",
       "    <tr>\n",
       "      <th>4</th>\n",
       "      <td>ELMHURST</td>\n",
       "      <td>Illegal Parking</td>\n",
       "      <td>207.033333</td>\n",
       "    </tr>\n",
       "    <tr>\n",
       "      <th>...</th>\n",
       "      <td>...</td>\n",
       "      <td>...</td>\n",
       "      <td>...</td>\n",
       "    </tr>\n",
       "    <tr>\n",
       "      <th>300692</th>\n",
       "      <td>NEW YORK</td>\n",
       "      <td>Noise - Commercial</td>\n",
       "      <td>38.483333</td>\n",
       "    </tr>\n",
       "    <tr>\n",
       "      <th>300694</th>\n",
       "      <td>RICHMOND HILL</td>\n",
       "      <td>Blocked Driveway</td>\n",
       "      <td>120.516667</td>\n",
       "    </tr>\n",
       "    <tr>\n",
       "      <th>300695</th>\n",
       "      <td>BROOKLYN</td>\n",
       "      <td>Noise - Commercial</td>\n",
       "      <td>187.283333</td>\n",
       "    </tr>\n",
       "    <tr>\n",
       "      <th>300696</th>\n",
       "      <td>BRONX</td>\n",
       "      <td>Noise - Commercial</td>\n",
       "      <td>245.550000</td>\n",
       "    </tr>\n",
       "    <tr>\n",
       "      <th>300697</th>\n",
       "      <td>NEW YORK</td>\n",
       "      <td>Noise - Commercial</td>\n",
       "      <td>248.816667</td>\n",
       "    </tr>\n",
       "  </tbody>\n",
       "</table>\n",
       "<p>290881 rows × 3 columns</p>\n",
       "</div>"
      ],
      "text/plain": [
       "                 City           Complaint Type  Request_Closing_Time\n",
       "0            NEW YORK  Noise - Street/Sidewalk             55.250000\n",
       "1             ASTORIA         Blocked Driveway             86.266667\n",
       "2               BRONX         Blocked Driveway            291.516667\n",
       "3               BRONX          Illegal Parking            465.233333\n",
       "4            ELMHURST          Illegal Parking            207.033333\n",
       "...               ...                      ...                   ...\n",
       "300692       NEW YORK       Noise - Commercial             38.483333\n",
       "300694  RICHMOND HILL         Blocked Driveway            120.516667\n",
       "300695       BROOKLYN       Noise - Commercial            187.283333\n",
       "300696          BRONX       Noise - Commercial            245.550000\n",
       "300697       NEW YORK       Noise - Commercial            248.816667\n",
       "\n",
       "[290881 rows x 3 columns]"
      ]
     },
     "execution_count": 34,
     "metadata": {},
     "output_type": "execute_result"
    }
   ],
   "source": [
    "df[['City','Complaint Type','Request_Closing_Time']]"
   ]
  },
  {
   "cell_type": "code",
   "execution_count": 35,
   "metadata": {},
   "outputs": [],
   "source": [
    "# Group them by City (location) and then by Complaint Type\n",
    "df_grouped = df.groupby(['City', 'Complaint Type'])"
   ]
  },
  {
   "cell_type": "code",
   "execution_count": 36,
   "metadata": {
    "scrolled": false
   },
   "outputs": [
    {
     "data": {
      "text/html": [
       "<div>\n",
       "<style scoped>\n",
       "    .dataframe tbody tr th:only-of-type {\n",
       "        vertical-align: middle;\n",
       "    }\n",
       "\n",
       "    .dataframe tbody tr th {\n",
       "        vertical-align: top;\n",
       "    }\n",
       "\n",
       "    .dataframe thead th {\n",
       "        text-align: right;\n",
       "    }\n",
       "</style>\n",
       "<table border=\"1\" class=\"dataframe\">\n",
       "  <thead>\n",
       "    <tr style=\"text-align: right;\">\n",
       "      <th></th>\n",
       "      <th></th>\n",
       "      <th>Request_Closing_Time</th>\n",
       "    </tr>\n",
       "    <tr>\n",
       "      <th>City</th>\n",
       "      <th>Complaint Type</th>\n",
       "      <th></th>\n",
       "    </tr>\n",
       "  </thead>\n",
       "  <tbody>\n",
       "    <tr>\n",
       "      <th rowspan=\"5\" valign=\"top\">Woodside</th>\n",
       "      <th>Blocked Driveway</th>\n",
       "      <td>384.372727</td>\n",
       "    </tr>\n",
       "    <tr>\n",
       "      <th>Illegal Parking</th>\n",
       "      <td>298.752167</td>\n",
       "    </tr>\n",
       "    <tr>\n",
       "      <th>Derelict Vehicle</th>\n",
       "      <td>298.000000</td>\n",
       "    </tr>\n",
       "    <tr>\n",
       "      <th>Noise - Street/Sidewalk</th>\n",
       "      <td>204.676667</td>\n",
       "    </tr>\n",
       "    <tr>\n",
       "      <th>Noise - Commercial</th>\n",
       "      <td>143.650000</td>\n",
       "    </tr>\n",
       "    <tr>\n",
       "      <th>...</th>\n",
       "      <th>...</th>\n",
       "      <td>...</td>\n",
       "    </tr>\n",
       "    <tr>\n",
       "      <th rowspan=\"5\" valign=\"top\">ARVERNE</th>\n",
       "      <th>Noise - House of Worship</th>\n",
       "      <td>93.731818</td>\n",
       "    </tr>\n",
       "    <tr>\n",
       "      <th>Graffiti</th>\n",
       "      <td>92.000000</td>\n",
       "    </tr>\n",
       "    <tr>\n",
       "      <th>Noise - Park</th>\n",
       "      <td>77.000000</td>\n",
       "    </tr>\n",
       "    <tr>\n",
       "      <th>Vending</th>\n",
       "      <td>29.000000</td>\n",
       "    </tr>\n",
       "    <tr>\n",
       "      <th>Drinking</th>\n",
       "      <td>14.316667</td>\n",
       "    </tr>\n",
       "  </tbody>\n",
       "</table>\n",
       "<p>618 rows × 1 columns</p>\n",
       "</div>"
      ],
      "text/plain": [
       "                                   Request_Closing_Time\n",
       "City     Complaint Type                                \n",
       "Woodside Blocked Driveway                    384.372727\n",
       "         Illegal Parking                     298.752167\n",
       "         Derelict Vehicle                    298.000000\n",
       "         Noise - Street/Sidewalk             204.676667\n",
       "         Noise - Commercial                  143.650000\n",
       "...                                                 ...\n",
       "ARVERNE  Noise - House of Worship             93.731818\n",
       "         Graffiti                             92.000000\n",
       "         Noise - Park                         77.000000\n",
       "         Vending                              29.000000\n",
       "         Drinking                             14.316667\n",
       "\n",
       "[618 rows x 1 columns]"
      ]
     },
     "execution_count": 36,
     "metadata": {},
     "output_type": "execute_result"
    }
   ],
   "source": [
    "# Avg Response time for each Complaint Type for every City\n",
    "# pd.options.display.max_rows = 999 #to show all rows in the result\n",
    "\n",
    "df_grouped = df.groupby(['City','Complaint Type']).agg({'Request_Closing_Time': 'mean'})\n",
    "df_grouped.sort_values(['City', 'Request_Closing_Time'], ascending=False)"
   ]
  },
  {
   "cell_type": "markdown",
   "metadata": {},
   "source": [
    "># <font color=green>5. Perform a statistical test for the following:</font>\n",
    ">### <font color=blue>1.Whether the average response time across complaint types is similar or not (overall)</font>\n",
    ">### <font color=blue>2.Are the type of complaint or service requested and location related?</font>\n",
    ">\n",
    "><ins>Note</ins>: For the above statements you need to state the Null (H0) and Alternate(HA) and then provide a statistical test to accept or reject the Null Hypothesis along with the corresponding ‘p-value’."
   ]
  },
  {
   "cell_type": "markdown",
   "metadata": {},
   "source": [
    "***Statistical Test 1: Whether the average response time across complaint types is similar or not (overall)***  \n",
    "H0 : Avg. Response Time for all complaint types is similar  \n",
    "HA : Not similar  \n",
    "\n",
    "We will decide the hypothesis based on [ANOVA test](http://pytolearn.csd.auth.gr/d1-hyptest/12/anova-one.html)  \n",
    "ANOVA means 'one way' ANOVA = test for exploring the impact of one single factor on **three or more groups**"
   ]
  },
  {
   "cell_type": "code",
   "execution_count": 37,
   "metadata": {
    "scrolled": false
   },
   "outputs": [
    {
     "data": {
      "text/plain": [
       "Blocked Driveway            76675\n",
       "Illegal Parking             74020\n",
       "Noise - Street/Sidewalk     47745\n",
       "Noise - Commercial          35144\n",
       "Derelict Vehicle            17496\n",
       "Noise - Vehicle             16867\n",
       "Animal Abuse                 7743\n",
       "Traffic                      4256\n",
       "Noise - Park                 3927\n",
       "Vending                      3773\n",
       "Drinking                     1270\n",
       "Noise - House of Worship      920\n",
       "Posting Advertisement         647\n",
       "Disorderly Youth              285\n",
       "Graffiti                      113\n",
       "Name: Complaint Type, dtype: int64"
      ]
     },
     "execution_count": 37,
     "metadata": {},
     "output_type": "execute_result"
    }
   ],
   "source": [
    "top_complaints = df['Complaint Type'].value_counts()\n",
    "top_complaints"
   ]
  },
  {
   "cell_type": "code",
   "execution_count": 38,
   "metadata": {},
   "outputs": [
    {
     "data": {
      "text/plain": [
       "Index(['Blocked Driveway', 'Illegal Parking', 'Noise - Street/Sidewalk',\n",
       "       'Noise - Commercial', 'Derelict Vehicle', 'Noise - Vehicle'],\n",
       "      dtype='object')"
      ]
     },
     "execution_count": 38,
     "metadata": {},
     "output_type": "execute_result"
    }
   ],
   "source": [
    "top_compl_types = top_complaints.head(6).index\n",
    "top_compl_types"
   ]
  },
  {
   "cell_type": "code",
   "execution_count": 39,
   "metadata": {},
   "outputs": [
    {
     "data": {
      "text/html": [
       "<div>\n",
       "<style scoped>\n",
       "    .dataframe tbody tr th:only-of-type {\n",
       "        vertical-align: middle;\n",
       "    }\n",
       "\n",
       "    .dataframe tbody tr th {\n",
       "        vertical-align: top;\n",
       "    }\n",
       "\n",
       "    .dataframe thead th {\n",
       "        text-align: right;\n",
       "    }\n",
       "</style>\n",
       "<table border=\"1\" class=\"dataframe\">\n",
       "  <thead>\n",
       "    <tr style=\"text-align: right;\">\n",
       "      <th></th>\n",
       "      <th>Complaint Type</th>\n",
       "      <th>Request_Closing_Time</th>\n",
       "    </tr>\n",
       "  </thead>\n",
       "  <tbody>\n",
       "    <tr>\n",
       "      <th>0</th>\n",
       "      <td>Noise - Street/Sidewalk</td>\n",
       "      <td>55.250000</td>\n",
       "    </tr>\n",
       "    <tr>\n",
       "      <th>1</th>\n",
       "      <td>Blocked Driveway</td>\n",
       "      <td>86.266667</td>\n",
       "    </tr>\n",
       "    <tr>\n",
       "      <th>2</th>\n",
       "      <td>Blocked Driveway</td>\n",
       "      <td>291.516667</td>\n",
       "    </tr>\n",
       "    <tr>\n",
       "      <th>3</th>\n",
       "      <td>Illegal Parking</td>\n",
       "      <td>465.233333</td>\n",
       "    </tr>\n",
       "    <tr>\n",
       "      <th>4</th>\n",
       "      <td>Illegal Parking</td>\n",
       "      <td>207.033333</td>\n",
       "    </tr>\n",
       "  </tbody>\n",
       "</table>\n",
       "</div>"
      ],
      "text/plain": [
       "            Complaint Type  Request_Closing_Time\n",
       "0  Noise - Street/Sidewalk             55.250000\n",
       "1         Blocked Driveway             86.266667\n",
       "2         Blocked Driveway            291.516667\n",
       "3          Illegal Parking            465.233333\n",
       "4          Illegal Parking            207.033333"
      ]
     },
     "execution_count": 39,
     "metadata": {},
     "output_type": "execute_result"
    }
   ],
   "source": [
    "data1 = df.loc[df['Complaint Type'].isin(top_compl_types), ['Complaint Type', 'Request_Closing_Time']]\n",
    "data1.head()"
   ]
  },
  {
   "cell_type": "code",
   "execution_count": 40,
   "metadata": {},
   "outputs": [
    {
     "data": {
      "text/plain": [
       "Index(['Blocked_Driveway', 'Derelict_Vehicle', 'Illegal_Parking',\n",
       "       'Noise_Commercial', 'Noise_Street_Sidewalk', 'Noise_Vehicle'],\n",
       "      dtype='object', name='Complaint Type')"
      ]
     },
     "execution_count": 40,
     "metadata": {},
     "output_type": "execute_result"
    }
   ],
   "source": [
    "df_stats = data1.pivot(columns='Complaint Type', values='Request_Closing_Time')\n",
    "df_stats1 = df_stats.rename(columns={'Blocked Driveway': 'Blocked_Driveway',\n",
    "                                    'Derelict Vehicle' : 'Derelict_Vehicle',\n",
    "                                    'Illegal Parking' : 'Illegal_Parking',\n",
    "                                    'Noise - Commercial' : 'Noise_Commercial',\n",
    "                                    'Noise - Street/Sidewalk' : 'Noise_Street_Sidewalk',\n",
    "                                    'Noise - Vehicle' : 'Noise_Vehicle'})\n",
    "df_stats1.keys()"
   ]
  },
  {
   "cell_type": "code",
   "execution_count": 41,
   "metadata": {},
   "outputs": [],
   "source": [
    "dC = df_stats1.Blocked_Driveway.dropna()\n",
    "dT1 = df_stats1.Derelict_Vehicle.dropna()\n",
    "dT2 = df_stats1.Illegal_Parking.dropna()\n",
    "dT3 = df_stats1.Noise_Commercial.dropna()\n",
    "dT4 = df_stats1.Noise_Street_Sidewalk.dropna()\n",
    "dT5 = df_stats1.Noise_Vehicle.dropna()"
   ]
  },
  {
   "cell_type": "code",
   "execution_count": 42,
   "metadata": {},
   "outputs": [
    {
     "name": "stdout",
     "output_type": "stream",
     "text": [
      "Control group\n",
      "\n",
      "count    76675.000000\n",
      "mean       262.943983\n",
      "std        239.058885\n",
      "min          0.000000\n",
      "25%         95.400000\n",
      "50%        187.933333\n",
      "75%        351.700000\n",
      "max       1439.883333\n",
      "Name: Blocked_Driveway, dtype: float64\n",
      "\n",
      "Treatment-1 group\n",
      "\n",
      "count    17496.000000\n",
      "mean       334.975744\n",
      "std        311.677048\n",
      "min          0.000000\n",
      "25%         99.000000\n",
      "50%        234.850000\n",
      "75%        468.570833\n",
      "max       1439.800000\n",
      "Name: Derelict_Vehicle, dtype: float64\n",
      "\n",
      "Treatment-2 group\n",
      "\n",
      "count    74020.000000\n",
      "mean       247.940116\n",
      "std        235.091096\n",
      "min          0.000000\n",
      "25%         82.566667\n",
      "50%        173.841667\n",
      "75%        336.175000\n",
      "max       1439.000000\n",
      "Name: Illegal_Parking, dtype: float64\n",
      "\n",
      "Treatment-3 group\n",
      "\n",
      "count    35144.000000\n",
      "mean       178.933478\n",
      "std        182.497288\n",
      "min          1.000000\n",
      "25%         56.550000\n",
      "50%        124.000000\n",
      "75%        239.441667\n",
      "max       1435.266667\n",
      "Name: Noise_Commercial, dtype: float64\n",
      "\n",
      "Treatment-4 group\n",
      "\n",
      "count    47745.000000\n",
      "mean       193.074702\n",
      "std        198.798491\n",
      "min          1.283333\n",
      "25%         59.916667\n",
      "50%        131.300000\n",
      "75%        256.150000\n",
      "max       1439.916667\n",
      "Name: Noise_Street_Sidewalk, dtype: float64\n",
      "\n",
      "Treatment-5 group\n",
      "\n",
      "count    16867.000000\n",
      "mean       202.985419\n",
      "std        203.141007\n",
      "min          0.000000\n",
      "25%         66.000000\n",
      "50%        138.516667\n",
      "75%        269.000000\n",
      "max       1437.000000\n",
      "Name: Noise_Vehicle, dtype: float64\n"
     ]
    }
   ],
   "source": [
    "print('Control group\\n')\n",
    "print(dC.describe())\n",
    "print('\\nTreatment-1 group\\n')\n",
    "print(dT1.describe())\n",
    "print('\\nTreatment-2 group\\n')\n",
    "print(dT2.describe())\n",
    "print('\\nTreatment-3 group\\n')\n",
    "print(dT3.describe())\n",
    "print('\\nTreatment-4 group\\n')\n",
    "print(dT4.describe())\n",
    "print('\\nTreatment-5 group\\n')\n",
    "print(dT5.describe())"
   ]
  },
  {
   "cell_type": "code",
   "execution_count": 43,
   "metadata": {},
   "outputs": [
    {
     "name": "stderr",
     "output_type": "stream",
     "text": [
      "C:\\Users\\gsspratn\\Anaconda3\\lib\\site-packages\\scipy\\stats\\morestats.py:1681: UserWarning: p-value may not be accurate for N > 5000.\n",
      "  warnings.warn(\"p-value may not be accurate for N > 5000.\")\n"
     ]
    },
    {
     "data": {
      "text/plain": [
       "(ShapiroResult(statistic=0.8206154108047485, pvalue=0.0),\n",
       " ShapiroResult(statistic=0.8556053042411804, pvalue=0.0),\n",
       " ShapiroResult(statistic=0.8203945755958557, pvalue=0.0),\n",
       " ShapiroResult(statistic=0.770423173904419, pvalue=0.0),\n",
       " ShapiroResult(statistic=0.7731069326400757, pvalue=0.0),\n",
       " ShapiroResult(statistic=0.7869990468025208, pvalue=0.0))"
      ]
     },
     "execution_count": 43,
     "metadata": {},
     "output_type": "execute_result"
    }
   ],
   "source": [
    "# Shapiro-Wilk normality test \n",
    "stats.shapiro(dC), stats.shapiro(dT1), stats.shapiro(dT2), stats.shapiro(dT3), stats.shapiro(dT4), stats.shapiro(dT5)"
   ]
  },
  {
   "cell_type": "code",
   "execution_count": 44,
   "metadata": {},
   "outputs": [
    {
     "data": {
      "text/plain": [
       "LeveneResult(statistic=1164.0041829823745, pvalue=0.0)"
      ]
     },
     "execution_count": 44,
     "metadata": {},
     "output_type": "execute_result"
    }
   ],
   "source": [
    "# Levene variance test  \n",
    "stats.levene(dC, dT1, dT2, dT3, dT4, dT5)"
   ]
  },
  {
   "cell_type": "code",
   "execution_count": 45,
   "metadata": {},
   "outputs": [
    {
     "name": "stdout",
     "output_type": "stream",
     "text": [
      "F statistic = 1764.016 and probability p = 0.000\n"
     ]
    }
   ],
   "source": [
    "F, p = stats.f_oneway(dC, dT1, dT2, dT3, dT4, dT5)\n",
    "print('F statistic = {:5.3f} and probability p = {:5.3f}'.format(F, p)) "
   ]
  },
  {
   "cell_type": "markdown",
   "metadata": {},
   "source": [
    "# <font color=red>Since the p-value is less than 0.05 so we reject H0 - Null hypothesis. Therefore we conclude that the average response time is not same."
   ]
  },
  {
   "cell_type": "markdown",
   "metadata": {},
   "source": [
    "***Statistical Test 2: Are the type of complaint or service requested and location related?***  \n",
    "H0 : Complaint Type and Location is dependent / related  \n",
    "HA : Complaint Type and Location is independent / not related  "
   ]
  },
  {
   "cell_type": "code",
   "execution_count": 46,
   "metadata": {},
   "outputs": [
    {
     "data": {
      "text/plain": [
       "BROOKLYN         96814\n",
       "NEW YORK         61867\n",
       "BRONX            40182\n",
       "STATEN ISLAND    12186\n",
       "JAMAICA           7144\n",
       "Name: City, dtype: int64"
      ]
     },
     "execution_count": 46,
     "metadata": {},
     "output_type": "execute_result"
    }
   ],
   "source": [
    "top_cities = df['City'].value_counts().head()\n",
    "top_cities"
   ]
  },
  {
   "cell_type": "code",
   "execution_count": 47,
   "metadata": {},
   "outputs": [
    {
     "data": {
      "text/plain": [
       "Index(['BROOKLYN', 'NEW YORK', 'BRONX', 'STATEN ISLAND', 'JAMAICA'], dtype='object')"
      ]
     },
     "execution_count": 47,
     "metadata": {},
     "output_type": "execute_result"
    }
   ],
   "source": [
    "top_cities_names = top_cities.index\n",
    "top_cities_names"
   ]
  },
  {
   "cell_type": "code",
   "execution_count": 48,
   "metadata": {},
   "outputs": [
    {
     "data": {
      "text/html": [
       "<div>\n",
       "<style scoped>\n",
       "    .dataframe tbody tr th:only-of-type {\n",
       "        vertical-align: middle;\n",
       "    }\n",
       "\n",
       "    .dataframe tbody tr th {\n",
       "        vertical-align: top;\n",
       "    }\n",
       "\n",
       "    .dataframe thead th {\n",
       "        text-align: right;\n",
       "    }\n",
       "</style>\n",
       "<table border=\"1\" class=\"dataframe\">\n",
       "  <thead>\n",
       "    <tr style=\"text-align: right;\">\n",
       "      <th></th>\n",
       "      <th>Complaint Type</th>\n",
       "      <th>City</th>\n",
       "    </tr>\n",
       "  </thead>\n",
       "  <tbody>\n",
       "    <tr>\n",
       "      <th>0</th>\n",
       "      <td>Noise - Street/Sidewalk</td>\n",
       "      <td>NEW YORK</td>\n",
       "    </tr>\n",
       "    <tr>\n",
       "      <th>2</th>\n",
       "      <td>Blocked Driveway</td>\n",
       "      <td>BRONX</td>\n",
       "    </tr>\n",
       "    <tr>\n",
       "      <th>3</th>\n",
       "      <td>Illegal Parking</td>\n",
       "      <td>BRONX</td>\n",
       "    </tr>\n",
       "    <tr>\n",
       "      <th>5</th>\n",
       "      <td>Illegal Parking</td>\n",
       "      <td>BROOKLYN</td>\n",
       "    </tr>\n",
       "    <tr>\n",
       "      <th>6</th>\n",
       "      <td>Illegal Parking</td>\n",
       "      <td>NEW YORK</td>\n",
       "    </tr>\n",
       "  </tbody>\n",
       "</table>\n",
       "</div>"
      ],
      "text/plain": [
       "            Complaint Type      City\n",
       "0  Noise - Street/Sidewalk  NEW YORK\n",
       "2         Blocked Driveway     BRONX\n",
       "3          Illegal Parking     BRONX\n",
       "5          Illegal Parking  BROOKLYN\n",
       "6          Illegal Parking  NEW YORK"
      ]
     },
     "execution_count": 48,
     "metadata": {},
     "output_type": "execute_result"
    }
   ],
   "source": [
    "data2 = df.loc[(df['Complaint Type'].isin(top_compl_types)) & (df['City'].isin(top_cities_names)), ['Complaint Type', 'City']]\n",
    "data2.head()"
   ]
  },
  {
   "cell_type": "code",
   "execution_count": 49,
   "metadata": {},
   "outputs": [
    {
     "data": {
      "text/html": [
       "<div>\n",
       "<style scoped>\n",
       "    .dataframe tbody tr th:only-of-type {\n",
       "        vertical-align: middle;\n",
       "    }\n",
       "\n",
       "    .dataframe tbody tr th {\n",
       "        vertical-align: top;\n",
       "    }\n",
       "\n",
       "    .dataframe thead th {\n",
       "        text-align: right;\n",
       "    }\n",
       "</style>\n",
       "<table border=\"1\" class=\"dataframe\">\n",
       "  <thead>\n",
       "    <tr style=\"text-align: right;\">\n",
       "      <th>City</th>\n",
       "      <th>BRONX</th>\n",
       "      <th>BROOKLYN</th>\n",
       "      <th>JAMAICA</th>\n",
       "      <th>NEW YORK</th>\n",
       "      <th>STATEN ISLAND</th>\n",
       "      <th>All</th>\n",
       "    </tr>\n",
       "    <tr>\n",
       "      <th>Complaint Type</th>\n",
       "      <th></th>\n",
       "      <th></th>\n",
       "      <th></th>\n",
       "      <th></th>\n",
       "      <th></th>\n",
       "      <th></th>\n",
       "    </tr>\n",
       "  </thead>\n",
       "  <tbody>\n",
       "    <tr>\n",
       "      <th>Blocked Driveway</th>\n",
       "      <td>12740</td>\n",
       "      <td>28119</td>\n",
       "      <td>2814</td>\n",
       "      <td>2055</td>\n",
       "      <td>2141</td>\n",
       "      <td>47869</td>\n",
       "    </tr>\n",
       "    <tr>\n",
       "      <th>Derelict Vehicle</th>\n",
       "      <td>1947</td>\n",
       "      <td>5161</td>\n",
       "      <td>953</td>\n",
       "      <td>528</td>\n",
       "      <td>1762</td>\n",
       "      <td>10351</td>\n",
       "    </tr>\n",
       "    <tr>\n",
       "      <th>Illegal Parking</th>\n",
       "      <td>7829</td>\n",
       "      <td>27386</td>\n",
       "      <td>1419</td>\n",
       "      <td>11978</td>\n",
       "      <td>4881</td>\n",
       "      <td>53493</td>\n",
       "    </tr>\n",
       "    <tr>\n",
       "      <th>Noise - Commercial</th>\n",
       "      <td>2431</td>\n",
       "      <td>11451</td>\n",
       "      <td>427</td>\n",
       "      <td>14528</td>\n",
       "      <td>677</td>\n",
       "      <td>29514</td>\n",
       "    </tr>\n",
       "    <tr>\n",
       "      <th>Noise - Street/Sidewalk</th>\n",
       "      <td>8865</td>\n",
       "      <td>13316</td>\n",
       "      <td>328</td>\n",
       "      <td>20264</td>\n",
       "      <td>815</td>\n",
       "      <td>43588</td>\n",
       "    </tr>\n",
       "    <tr>\n",
       "      <th>Noise - Vehicle</th>\n",
       "      <td>3385</td>\n",
       "      <td>5145</td>\n",
       "      <td>301</td>\n",
       "      <td>5374</td>\n",
       "      <td>356</td>\n",
       "      <td>14561</td>\n",
       "    </tr>\n",
       "    <tr>\n",
       "      <th>All</th>\n",
       "      <td>37197</td>\n",
       "      <td>90578</td>\n",
       "      <td>6242</td>\n",
       "      <td>54727</td>\n",
       "      <td>10632</td>\n",
       "      <td>199376</td>\n",
       "    </tr>\n",
       "  </tbody>\n",
       "</table>\n",
       "</div>"
      ],
      "text/plain": [
       "City                     BRONX  BROOKLYN  JAMAICA  NEW YORK  STATEN ISLAND  \\\n",
       "Complaint Type                                                               \n",
       "Blocked Driveway         12740     28119     2814      2055           2141   \n",
       "Derelict Vehicle          1947      5161      953       528           1762   \n",
       "Illegal Parking           7829     27386     1419     11978           4881   \n",
       "Noise - Commercial        2431     11451      427     14528            677   \n",
       "Noise - Street/Sidewalk   8865     13316      328     20264            815   \n",
       "Noise - Vehicle           3385      5145      301      5374            356   \n",
       "All                      37197     90578     6242     54727          10632   \n",
       "\n",
       "City                        All  \n",
       "Complaint Type                   \n",
       "Blocked Driveway          47869  \n",
       "Derelict Vehicle          10351  \n",
       "Illegal Parking           53493  \n",
       "Noise - Commercial        29514  \n",
       "Noise - Street/Sidewalk   43588  \n",
       "Noise - Vehicle           14561  \n",
       "All                      199376  "
      ]
     },
     "execution_count": 49,
     "metadata": {},
     "output_type": "execute_result"
    }
   ],
   "source": [
    "pd.crosstab(data2['Complaint Type'], data2['City'], margins=True)"
   ]
  },
  {
   "cell_type": "code",
   "execution_count": 50,
   "metadata": {},
   "outputs": [
    {
     "name": "stdout",
     "output_type": "stream",
     "text": [
      "41540.96029950684\n",
      "0.0\n"
     ]
    }
   ],
   "source": [
    "ch2, p_value, dof, exp_frq = stats.chi2_contingency(pd.crosstab(data2['Complaint Type'], data2['City']))\n",
    "print(ch2)\n",
    "print(p_value)"
   ]
  },
  {
   "cell_type": "markdown",
   "metadata": {},
   "source": [
    "# <font color=red>Since the p-value is less than 0.05 so we reject H0 - Null hypothesis. Therefore we conclude that complaint type and location are not related."
   ]
  }
 ],
 "metadata": {
  "kernelspec": {
   "display_name": "Python 3",
   "language": "python",
   "name": "python3"
  },
  "language_info": {
   "codemirror_mode": {
    "name": "ipython",
    "version": 3
   },
   "file_extension": ".py",
   "mimetype": "text/x-python",
   "name": "python",
   "nbconvert_exporter": "python",
   "pygments_lexer": "ipython3",
   "version": "3.8.3"
  }
 },
 "nbformat": 4,
 "nbformat_minor": 4
}
