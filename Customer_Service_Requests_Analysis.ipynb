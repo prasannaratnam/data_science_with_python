{
  "nbformat": 4,
  "nbformat_minor": 0,
  "metadata": {
    "colab": {
      "name": "Customer Service Requests Analysis.ipynb",
      "provenance": [],
      "collapsed_sections": [],
      "authorship_tag": "ABX9TyMnNrGcbP9xiMbRUQWblKrS",
      "include_colab_link": true
    },
    "kernelspec": {
      "name": "python3",
      "display_name": "Python 3"
    }
  },
  "cells": [
    {
      "cell_type": "markdown",
      "metadata": {
        "id": "view-in-github",
        "colab_type": "text"
      },
      "source": [
        "<a href=\"https://colab.research.google.com/github/prasannaratnam/data_science_with_python/blob/main/Customer_Service_Requests_Analysis.ipynb\" target=\"_parent\"><img src=\"https://colab.research.google.com/assets/colab-badge.svg\" alt=\"Open In Colab\"/></a>"
      ]
    },
    {
      "cell_type": "code",
      "metadata": {
        "id": "s3jqFV1B0UL1"
      },
      "source": [
        "# importing all the necessary libraries\n",
        "\n",
        "import io\n",
        "import numpy as np\n",
        "import pandas as pd\n",
        "import seaborn as sns\n",
        "import matplotlib.pyplot as plt\n",
        "%matplotlib inline"
      ],
      "execution_count": 98,
      "outputs": []
    },
    {
      "cell_type": "code",
      "metadata": {
        "colab": {
          "resources": {
            "http://localhost:8080/nbextensions/google.colab/files.js": {
              "data": "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",
              "ok": true,
              "headers": [
                [
                  "content-type",
                  "application/javascript"
                ]
              ],
              "status": 200,
              "status_text": ""
            }
          },
          "base_uri": "https://localhost:8080/",
          "height": 72
        },
        "id": "qITkmc1T1S1P",
        "outputId": "8739f9dc-244c-4c5d-95c2-187069895bb4"
      },
      "source": [
        "from google.colab import files \n",
        "uploaded = files.upload()"
      ],
      "execution_count": 12,
      "outputs": [
        {
          "output_type": "display_data",
          "data": {
            "text/html": [
              "\n",
              "     <input type=\"file\" id=\"files-ffc0274f-65c2-4ba6-a16a-f6323d1c83b0\" name=\"files[]\" multiple disabled\n",
              "        style=\"border:none\" />\n",
              "     <output id=\"result-ffc0274f-65c2-4ba6-a16a-f6323d1c83b0\">\n",
              "      Upload widget is only available when the cell has been executed in the\n",
              "      current browser session. Please rerun this cell to enable.\n",
              "      </output>\n",
              "      <script src=\"/nbextensions/google.colab/files.js\"></script> "
            ],
            "text/plain": [
              "<IPython.core.display.HTML object>"
            ]
          },
          "metadata": {
            "tags": []
          }
        },
        {
          "output_type": "stream",
          "text": [
            "Saving 311_Service_Requests_from_2010_to_Present.csv to 311_Service_Requests_from_2010_to_Present (2).csv\n"
          ],
          "name": "stdout"
        }
      ]
    },
    {
      "cell_type": "code",
      "metadata": {
        "colab": {
          "base_uri": "https://localhost:8080/"
        },
        "id": "zmjLA9Jq0c-G",
        "outputId": "be4bbd07-d947-4b00-9e8a-937cea8e1501"
      },
      "source": [
        "# importing the dataset\n",
        "\n",
        "df = pd.read_csv(io.BytesIO(uploaded['311_Service_Requests_from_2010_to_Present.csv']))\n",
        "print(df)"
      ],
      "execution_count": 118,
      "outputs": [
        {
          "output_type": "stream",
          "text": [
            "/usr/local/lib/python3.6/dist-packages/IPython/core/interactiveshell.py:2718: DtypeWarning: Columns (48,49) have mixed types.Specify dtype option on import or set low_memory=False.\n",
            "  interactivity=interactivity, compiler=compiler, result=result)\n"
          ],
          "name": "stderr"
        },
        {
          "output_type": "stream",
          "text": [
            "        Unique Key  ...                                  Location\n",
            "0         32310363  ...   (40.86568153633767, -73.92350095571744)\n",
            "1         32309934  ...  (40.775945312321085, -73.91509393898605)\n",
            "2         32309159  ...  (40.870324522111424, -73.88852464418646)\n",
            "3         32305098  ...   (40.83599404683083, -73.82837939584206)\n",
            "4         32306529  ...  (40.733059618956815, -73.87416975810375)\n",
            "...            ...  ...                                       ...\n",
            "300693    30281872  ...                                       NaN\n",
            "300694    30281230  ...    (40.69407728322387, -73.8460866160573)\n",
            "300695    30283424  ...   (40.69959035300927, -73.94423377144169)\n",
            "300696    30280004  ...    (40.8377075854206, -73.83458731019586)\n",
            "300697    30281825  ...   (40.76058322950115, -73.98592204392392)\n",
            "\n",
            "[300698 rows x 53 columns]\n"
          ],
          "name": "stdout"
        }
      ]
    },
    {
      "cell_type": "code",
      "metadata": {
        "colab": {
          "base_uri": "https://localhost:8080/"
        },
        "id": "lQiY067503OI",
        "outputId": "fdcafc06-4ad3-4750-fb4e-15d2727b30f6"
      },
      "source": [
        "df.shape"
      ],
      "execution_count": 119,
      "outputs": [
        {
          "output_type": "execute_result",
          "data": {
            "text/plain": [
              "(300698, 53)"
            ]
          },
          "metadata": {
            "tags": []
          },
          "execution_count": 119
        }
      ]
    },
    {
      "cell_type": "code",
      "metadata": {
        "colab": {
          "base_uri": "https://localhost:8080/"
        },
        "id": "7mT4pafqHYQv",
        "outputId": "08c3849a-964a-4e01-f4ad-4ebfd843cb51"
      },
      "source": [
        "df.keys()"
      ],
      "execution_count": 120,
      "outputs": [
        {
          "output_type": "execute_result",
          "data": {
            "text/plain": [
              "Index(['Unique Key', 'Created Date', 'Closed Date', 'Agency', 'Agency Name',\n",
              "       'Complaint Type', 'Descriptor', 'Location Type', 'Incident Zip',\n",
              "       'Incident Address', 'Street Name', 'Cross Street 1', 'Cross Street 2',\n",
              "       'Intersection Street 1', 'Intersection Street 2', 'Address Type',\n",
              "       'City', 'Landmark', 'Facility Type', 'Status', 'Due Date',\n",
              "       'Resolution Description', 'Resolution Action Updated Date',\n",
              "       'Community Board', 'Borough', 'X Coordinate (State Plane)',\n",
              "       'Y Coordinate (State Plane)', 'Park Facility Name', 'Park Borough',\n",
              "       'School Name', 'School Number', 'School Region', 'School Code',\n",
              "       'School Phone Number', 'School Address', 'School City', 'School State',\n",
              "       'School Zip', 'School Not Found', 'School or Citywide Complaint',\n",
              "       'Vehicle Type', 'Taxi Company Borough', 'Taxi Pick Up Location',\n",
              "       'Bridge Highway Name', 'Bridge Highway Direction', 'Road Ramp',\n",
              "       'Bridge Highway Segment', 'Garage Lot Name', 'Ferry Direction',\n",
              "       'Ferry Terminal Name', 'Latitude', 'Longitude', 'Location'],\n",
              "      dtype='object')"
            ]
          },
          "metadata": {
            "tags": []
          },
          "execution_count": 120
        }
      ]
    },
    {
      "cell_type": "code",
      "metadata": {
        "colab": {
          "base_uri": "https://localhost:8080/",
          "height": 583
        },
        "id": "mlFBmheBHZjr",
        "outputId": "bc43c373-4aca-4575-9f76-dff168dc6f26"
      },
      "source": [
        "df.head()"
      ],
      "execution_count": 121,
      "outputs": [
        {
          "output_type": "execute_result",
          "data": {
            "text/html": [
              "<div>\n",
              "<style scoped>\n",
              "    .dataframe tbody tr th:only-of-type {\n",
              "        vertical-align: middle;\n",
              "    }\n",
              "\n",
              "    .dataframe tbody tr th {\n",
              "        vertical-align: top;\n",
              "    }\n",
              "\n",
              "    .dataframe thead th {\n",
              "        text-align: right;\n",
              "    }\n",
              "</style>\n",
              "<table border=\"1\" class=\"dataframe\">\n",
              "  <thead>\n",
              "    <tr style=\"text-align: right;\">\n",
              "      <th></th>\n",
              "      <th>Unique Key</th>\n",
              "      <th>Created Date</th>\n",
              "      <th>Closed Date</th>\n",
              "      <th>Agency</th>\n",
              "      <th>Agency Name</th>\n",
              "      <th>Complaint Type</th>\n",
              "      <th>Descriptor</th>\n",
              "      <th>Location Type</th>\n",
              "      <th>Incident Zip</th>\n",
              "      <th>Incident Address</th>\n",
              "      <th>Street Name</th>\n",
              "      <th>Cross Street 1</th>\n",
              "      <th>Cross Street 2</th>\n",
              "      <th>Intersection Street 1</th>\n",
              "      <th>Intersection Street 2</th>\n",
              "      <th>Address Type</th>\n",
              "      <th>City</th>\n",
              "      <th>Landmark</th>\n",
              "      <th>Facility Type</th>\n",
              "      <th>Status</th>\n",
              "      <th>Due Date</th>\n",
              "      <th>Resolution Description</th>\n",
              "      <th>Resolution Action Updated Date</th>\n",
              "      <th>Community Board</th>\n",
              "      <th>Borough</th>\n",
              "      <th>X Coordinate (State Plane)</th>\n",
              "      <th>Y Coordinate (State Plane)</th>\n",
              "      <th>Park Facility Name</th>\n",
              "      <th>Park Borough</th>\n",
              "      <th>School Name</th>\n",
              "      <th>School Number</th>\n",
              "      <th>School Region</th>\n",
              "      <th>School Code</th>\n",
              "      <th>School Phone Number</th>\n",
              "      <th>School Address</th>\n",
              "      <th>School City</th>\n",
              "      <th>School State</th>\n",
              "      <th>School Zip</th>\n",
              "      <th>School Not Found</th>\n",
              "      <th>School or Citywide Complaint</th>\n",
              "      <th>Vehicle Type</th>\n",
              "      <th>Taxi Company Borough</th>\n",
              "      <th>Taxi Pick Up Location</th>\n",
              "      <th>Bridge Highway Name</th>\n",
              "      <th>Bridge Highway Direction</th>\n",
              "      <th>Road Ramp</th>\n",
              "      <th>Bridge Highway Segment</th>\n",
              "      <th>Garage Lot Name</th>\n",
              "      <th>Ferry Direction</th>\n",
              "      <th>Ferry Terminal Name</th>\n",
              "      <th>Latitude</th>\n",
              "      <th>Longitude</th>\n",
              "      <th>Location</th>\n",
              "    </tr>\n",
              "  </thead>\n",
              "  <tbody>\n",
              "    <tr>\n",
              "      <th>0</th>\n",
              "      <td>32310363</td>\n",
              "      <td>12/31/2015 11:59:45 PM</td>\n",
              "      <td>01-01-16 0:55</td>\n",
              "      <td>NYPD</td>\n",
              "      <td>New York City Police Department</td>\n",
              "      <td>Noise - Street/Sidewalk</td>\n",
              "      <td>Loud Music/Party</td>\n",
              "      <td>Street/Sidewalk</td>\n",
              "      <td>10034.0</td>\n",
              "      <td>71 VERMILYEA AVENUE</td>\n",
              "      <td>VERMILYEA AVENUE</td>\n",
              "      <td>ACADEMY STREET</td>\n",
              "      <td>WEST 204 STREET</td>\n",
              "      <td>NaN</td>\n",
              "      <td>NaN</td>\n",
              "      <td>ADDRESS</td>\n",
              "      <td>NEW YORK</td>\n",
              "      <td>NaN</td>\n",
              "      <td>Precinct</td>\n",
              "      <td>Closed</td>\n",
              "      <td>01-01-16 7:59</td>\n",
              "      <td>The Police Department responded and upon arriv...</td>\n",
              "      <td>01-01-16 0:55</td>\n",
              "      <td>12 MANHATTAN</td>\n",
              "      <td>MANHATTAN</td>\n",
              "      <td>1005409.0</td>\n",
              "      <td>254678.0</td>\n",
              "      <td>Unspecified</td>\n",
              "      <td>MANHATTAN</td>\n",
              "      <td>Unspecified</td>\n",
              "      <td>Unspecified</td>\n",
              "      <td>Unspecified</td>\n",
              "      <td>Unspecified</td>\n",
              "      <td>Unspecified</td>\n",
              "      <td>Unspecified</td>\n",
              "      <td>Unspecified</td>\n",
              "      <td>Unspecified</td>\n",
              "      <td>Unspecified</td>\n",
              "      <td>N</td>\n",
              "      <td>NaN</td>\n",
              "      <td>NaN</td>\n",
              "      <td>NaN</td>\n",
              "      <td>NaN</td>\n",
              "      <td>NaN</td>\n",
              "      <td>NaN</td>\n",
              "      <td>NaN</td>\n",
              "      <td>NaN</td>\n",
              "      <td>NaN</td>\n",
              "      <td>NaN</td>\n",
              "      <td>NaN</td>\n",
              "      <td>40.865682</td>\n",
              "      <td>-73.923501</td>\n",
              "      <td>(40.86568153633767, -73.92350095571744)</td>\n",
              "    </tr>\n",
              "    <tr>\n",
              "      <th>1</th>\n",
              "      <td>32309934</td>\n",
              "      <td>12/31/2015 11:59:44 PM</td>\n",
              "      <td>01-01-16 1:26</td>\n",
              "      <td>NYPD</td>\n",
              "      <td>New York City Police Department</td>\n",
              "      <td>Blocked Driveway</td>\n",
              "      <td>No Access</td>\n",
              "      <td>Street/Sidewalk</td>\n",
              "      <td>11105.0</td>\n",
              "      <td>27-07 23 AVENUE</td>\n",
              "      <td>23 AVENUE</td>\n",
              "      <td>27 STREET</td>\n",
              "      <td>28 STREET</td>\n",
              "      <td>NaN</td>\n",
              "      <td>NaN</td>\n",
              "      <td>ADDRESS</td>\n",
              "      <td>ASTORIA</td>\n",
              "      <td>NaN</td>\n",
              "      <td>Precinct</td>\n",
              "      <td>Closed</td>\n",
              "      <td>01-01-16 7:59</td>\n",
              "      <td>The Police Department responded to the complai...</td>\n",
              "      <td>01-01-16 1:26</td>\n",
              "      <td>01 QUEENS</td>\n",
              "      <td>QUEENS</td>\n",
              "      <td>1007766.0</td>\n",
              "      <td>221986.0</td>\n",
              "      <td>Unspecified</td>\n",
              "      <td>QUEENS</td>\n",
              "      <td>Unspecified</td>\n",
              "      <td>Unspecified</td>\n",
              "      <td>Unspecified</td>\n",
              "      <td>Unspecified</td>\n",
              "      <td>Unspecified</td>\n",
              "      <td>Unspecified</td>\n",
              "      <td>Unspecified</td>\n",
              "      <td>Unspecified</td>\n",
              "      <td>Unspecified</td>\n",
              "      <td>N</td>\n",
              "      <td>NaN</td>\n",
              "      <td>NaN</td>\n",
              "      <td>NaN</td>\n",
              "      <td>NaN</td>\n",
              "      <td>NaN</td>\n",
              "      <td>NaN</td>\n",
              "      <td>NaN</td>\n",
              "      <td>NaN</td>\n",
              "      <td>NaN</td>\n",
              "      <td>NaN</td>\n",
              "      <td>NaN</td>\n",
              "      <td>40.775945</td>\n",
              "      <td>-73.915094</td>\n",
              "      <td>(40.775945312321085, -73.91509393898605)</td>\n",
              "    </tr>\n",
              "    <tr>\n",
              "      <th>2</th>\n",
              "      <td>32309159</td>\n",
              "      <td>12/31/2015 11:59:29 PM</td>\n",
              "      <td>01-01-16 4:51</td>\n",
              "      <td>NYPD</td>\n",
              "      <td>New York City Police Department</td>\n",
              "      <td>Blocked Driveway</td>\n",
              "      <td>No Access</td>\n",
              "      <td>Street/Sidewalk</td>\n",
              "      <td>10458.0</td>\n",
              "      <td>2897 VALENTINE AVENUE</td>\n",
              "      <td>VALENTINE AVENUE</td>\n",
              "      <td>EAST 198 STREET</td>\n",
              "      <td>EAST 199 STREET</td>\n",
              "      <td>NaN</td>\n",
              "      <td>NaN</td>\n",
              "      <td>ADDRESS</td>\n",
              "      <td>BRONX</td>\n",
              "      <td>NaN</td>\n",
              "      <td>Precinct</td>\n",
              "      <td>Closed</td>\n",
              "      <td>01-01-16 7:59</td>\n",
              "      <td>The Police Department responded and upon arriv...</td>\n",
              "      <td>01-01-16 4:51</td>\n",
              "      <td>07 BRONX</td>\n",
              "      <td>BRONX</td>\n",
              "      <td>1015081.0</td>\n",
              "      <td>256380.0</td>\n",
              "      <td>Unspecified</td>\n",
              "      <td>BRONX</td>\n",
              "      <td>Unspecified</td>\n",
              "      <td>Unspecified</td>\n",
              "      <td>Unspecified</td>\n",
              "      <td>Unspecified</td>\n",
              "      <td>Unspecified</td>\n",
              "      <td>Unspecified</td>\n",
              "      <td>Unspecified</td>\n",
              "      <td>Unspecified</td>\n",
              "      <td>Unspecified</td>\n",
              "      <td>N</td>\n",
              "      <td>NaN</td>\n",
              "      <td>NaN</td>\n",
              "      <td>NaN</td>\n",
              "      <td>NaN</td>\n",
              "      <td>NaN</td>\n",
              "      <td>NaN</td>\n",
              "      <td>NaN</td>\n",
              "      <td>NaN</td>\n",
              "      <td>NaN</td>\n",
              "      <td>NaN</td>\n",
              "      <td>NaN</td>\n",
              "      <td>40.870325</td>\n",
              "      <td>-73.888525</td>\n",
              "      <td>(40.870324522111424, -73.88852464418646)</td>\n",
              "    </tr>\n",
              "    <tr>\n",
              "      <th>3</th>\n",
              "      <td>32305098</td>\n",
              "      <td>12/31/2015 11:57:46 PM</td>\n",
              "      <td>01-01-16 7:43</td>\n",
              "      <td>NYPD</td>\n",
              "      <td>New York City Police Department</td>\n",
              "      <td>Illegal Parking</td>\n",
              "      <td>Commercial Overnight Parking</td>\n",
              "      <td>Street/Sidewalk</td>\n",
              "      <td>10461.0</td>\n",
              "      <td>2940 BAISLEY AVENUE</td>\n",
              "      <td>BAISLEY AVENUE</td>\n",
              "      <td>EDISON AVENUE</td>\n",
              "      <td>B STREET</td>\n",
              "      <td>NaN</td>\n",
              "      <td>NaN</td>\n",
              "      <td>ADDRESS</td>\n",
              "      <td>BRONX</td>\n",
              "      <td>NaN</td>\n",
              "      <td>Precinct</td>\n",
              "      <td>Closed</td>\n",
              "      <td>01-01-16 7:57</td>\n",
              "      <td>The Police Department responded to the complai...</td>\n",
              "      <td>01-01-16 7:43</td>\n",
              "      <td>10 BRONX</td>\n",
              "      <td>BRONX</td>\n",
              "      <td>1031740.0</td>\n",
              "      <td>243899.0</td>\n",
              "      <td>Unspecified</td>\n",
              "      <td>BRONX</td>\n",
              "      <td>Unspecified</td>\n",
              "      <td>Unspecified</td>\n",
              "      <td>Unspecified</td>\n",
              "      <td>Unspecified</td>\n",
              "      <td>Unspecified</td>\n",
              "      <td>Unspecified</td>\n",
              "      <td>Unspecified</td>\n",
              "      <td>Unspecified</td>\n",
              "      <td>Unspecified</td>\n",
              "      <td>N</td>\n",
              "      <td>NaN</td>\n",
              "      <td>NaN</td>\n",
              "      <td>NaN</td>\n",
              "      <td>NaN</td>\n",
              "      <td>NaN</td>\n",
              "      <td>NaN</td>\n",
              "      <td>NaN</td>\n",
              "      <td>NaN</td>\n",
              "      <td>NaN</td>\n",
              "      <td>NaN</td>\n",
              "      <td>NaN</td>\n",
              "      <td>40.835994</td>\n",
              "      <td>-73.828379</td>\n",
              "      <td>(40.83599404683083, -73.82837939584206)</td>\n",
              "    </tr>\n",
              "    <tr>\n",
              "      <th>4</th>\n",
              "      <td>32306529</td>\n",
              "      <td>12/31/2015 11:56:58 PM</td>\n",
              "      <td>01-01-16 3:24</td>\n",
              "      <td>NYPD</td>\n",
              "      <td>New York City Police Department</td>\n",
              "      <td>Illegal Parking</td>\n",
              "      <td>Blocked Sidewalk</td>\n",
              "      <td>Street/Sidewalk</td>\n",
              "      <td>11373.0</td>\n",
              "      <td>87-14 57 ROAD</td>\n",
              "      <td>57 ROAD</td>\n",
              "      <td>SEABURY STREET</td>\n",
              "      <td>HOFFMAN DRIVE</td>\n",
              "      <td>NaN</td>\n",
              "      <td>NaN</td>\n",
              "      <td>ADDRESS</td>\n",
              "      <td>ELMHURST</td>\n",
              "      <td>NaN</td>\n",
              "      <td>Precinct</td>\n",
              "      <td>Closed</td>\n",
              "      <td>01-01-16 7:56</td>\n",
              "      <td>The Police Department responded and upon arriv...</td>\n",
              "      <td>01-01-16 3:24</td>\n",
              "      <td>04 QUEENS</td>\n",
              "      <td>QUEENS</td>\n",
              "      <td>1019123.0</td>\n",
              "      <td>206375.0</td>\n",
              "      <td>Unspecified</td>\n",
              "      <td>QUEENS</td>\n",
              "      <td>Unspecified</td>\n",
              "      <td>Unspecified</td>\n",
              "      <td>Unspecified</td>\n",
              "      <td>Unspecified</td>\n",
              "      <td>Unspecified</td>\n",
              "      <td>Unspecified</td>\n",
              "      <td>Unspecified</td>\n",
              "      <td>Unspecified</td>\n",
              "      <td>Unspecified</td>\n",
              "      <td>N</td>\n",
              "      <td>NaN</td>\n",
              "      <td>NaN</td>\n",
              "      <td>NaN</td>\n",
              "      <td>NaN</td>\n",
              "      <td>NaN</td>\n",
              "      <td>NaN</td>\n",
              "      <td>NaN</td>\n",
              "      <td>NaN</td>\n",
              "      <td>NaN</td>\n",
              "      <td>NaN</td>\n",
              "      <td>NaN</td>\n",
              "      <td>40.733060</td>\n",
              "      <td>-73.874170</td>\n",
              "      <td>(40.733059618956815, -73.87416975810375)</td>\n",
              "    </tr>\n",
              "  </tbody>\n",
              "</table>\n",
              "</div>"
            ],
            "text/plain": [
              "   Unique Key  ...                                  Location\n",
              "0    32310363  ...   (40.86568153633767, -73.92350095571744)\n",
              "1    32309934  ...  (40.775945312321085, -73.91509393898605)\n",
              "2    32309159  ...  (40.870324522111424, -73.88852464418646)\n",
              "3    32305098  ...   (40.83599404683083, -73.82837939584206)\n",
              "4    32306529  ...  (40.733059618956815, -73.87416975810375)\n",
              "\n",
              "[5 rows x 53 columns]"
            ]
          },
          "metadata": {
            "tags": []
          },
          "execution_count": 121
        }
      ]
    },
    {
      "cell_type": "code",
      "metadata": {
        "colab": {
          "base_uri": "https://localhost:8080/"
        },
        "id": "RVDjTir4Ha8Q",
        "outputId": "9d35f82d-5596-4723-a688-0944955f771c"
      },
      "source": [
        "df.info()"
      ],
      "execution_count": 122,
      "outputs": [
        {
          "output_type": "stream",
          "text": [
            "<class 'pandas.core.frame.DataFrame'>\n",
            "RangeIndex: 300698 entries, 0 to 300697\n",
            "Data columns (total 53 columns):\n",
            " #   Column                          Non-Null Count   Dtype  \n",
            "---  ------                          --------------   -----  \n",
            " 0   Unique Key                      300698 non-null  int64  \n",
            " 1   Created Date                    300698 non-null  object \n",
            " 2   Closed Date                     298534 non-null  object \n",
            " 3   Agency                          300698 non-null  object \n",
            " 4   Agency Name                     300698 non-null  object \n",
            " 5   Complaint Type                  300698 non-null  object \n",
            " 6   Descriptor                      294784 non-null  object \n",
            " 7   Location Type                   300567 non-null  object \n",
            " 8   Incident Zip                    298083 non-null  float64\n",
            " 9   Incident Address                256288 non-null  object \n",
            " 10  Street Name                     256288 non-null  object \n",
            " 11  Cross Street 1                  251419 non-null  object \n",
            " 12  Cross Street 2                  250919 non-null  object \n",
            " 13  Intersection Street 1           43858 non-null   object \n",
            " 14  Intersection Street 2           43362 non-null   object \n",
            " 15  Address Type                    297883 non-null  object \n",
            " 16  City                            298084 non-null  object \n",
            " 17  Landmark                        349 non-null     object \n",
            " 18  Facility Type                   298527 non-null  object \n",
            " 19  Status                          300698 non-null  object \n",
            " 20  Due Date                        300695 non-null  object \n",
            " 21  Resolution Description          300698 non-null  object \n",
            " 22  Resolution Action Updated Date  298511 non-null  object \n",
            " 23  Community Board                 300698 non-null  object \n",
            " 24  Borough                         300698 non-null  object \n",
            " 25  X Coordinate (State Plane)      297158 non-null  float64\n",
            " 26  Y Coordinate (State Plane)      297158 non-null  float64\n",
            " 27  Park Facility Name              300698 non-null  object \n",
            " 28  Park Borough                    300698 non-null  object \n",
            " 29  School Name                     300698 non-null  object \n",
            " 30  School Number                   300698 non-null  object \n",
            " 31  School Region                   300697 non-null  object \n",
            " 32  School Code                     300697 non-null  object \n",
            " 33  School Phone Number             300698 non-null  object \n",
            " 34  School Address                  300698 non-null  object \n",
            " 35  School City                     300698 non-null  object \n",
            " 36  School State                    300698 non-null  object \n",
            " 37  School Zip                      300697 non-null  object \n",
            " 38  School Not Found                300698 non-null  object \n",
            " 39  School or Citywide Complaint    0 non-null       float64\n",
            " 40  Vehicle Type                    0 non-null       float64\n",
            " 41  Taxi Company Borough            0 non-null       float64\n",
            " 42  Taxi Pick Up Location           0 non-null       float64\n",
            " 43  Bridge Highway Name             243 non-null     object \n",
            " 44  Bridge Highway Direction        243 non-null     object \n",
            " 45  Road Ramp                       213 non-null     object \n",
            " 46  Bridge Highway Segment          213 non-null     object \n",
            " 47  Garage Lot Name                 0 non-null       float64\n",
            " 48  Ferry Direction                 1 non-null       object \n",
            " 49  Ferry Terminal Name             2 non-null       object \n",
            " 50  Latitude                        297158 non-null  float64\n",
            " 51  Longitude                       297158 non-null  float64\n",
            " 52  Location                        297158 non-null  object \n",
            "dtypes: float64(10), int64(1), object(42)\n",
            "memory usage: 121.6+ MB\n"
          ],
          "name": "stdout"
        }
      ]
    },
    {
      "cell_type": "code",
      "metadata": {
        "colab": {
          "base_uri": "https://localhost:8080/"
        },
        "id": "MbSE7bqxHd6U",
        "outputId": "10d81451-34e7-4304-9234-885fc4ed7265"
      },
      "source": [
        "# Checking the number of Nulls in each column\n",
        "df.isnull().sum()/len(df)*100"
      ],
      "execution_count": 123,
      "outputs": [
        {
          "output_type": "execute_result",
          "data": {
            "text/plain": [
              "Unique Key                          0.000000\n",
              "Created Date                        0.000000\n",
              "Closed Date                         0.719659\n",
              "Agency                              0.000000\n",
              "Agency Name                         0.000000\n",
              "Complaint Type                      0.000000\n",
              "Descriptor                          1.966757\n",
              "Location Type                       0.043565\n",
              "Incident Zip                        0.869643\n",
              "Incident Address                   14.768971\n",
              "Street Name                        14.768971\n",
              "Cross Street 1                     16.388203\n",
              "Cross Street 2                     16.554483\n",
              "Intersection Street 1              85.414602\n",
              "Intersection Street 2              85.579552\n",
              "Address Type                        0.936155\n",
              "City                                0.869311\n",
              "Landmark                           99.883937\n",
              "Facility Type                       0.721987\n",
              "Status                              0.000000\n",
              "Due Date                            0.000998\n",
              "Resolution Description              0.000000\n",
              "Resolution Action Updated Date      0.727308\n",
              "Community Board                     0.000000\n",
              "Borough                             0.000000\n",
              "X Coordinate (State Plane)          1.177261\n",
              "Y Coordinate (State Plane)          1.177261\n",
              "Park Facility Name                  0.000000\n",
              "Park Borough                        0.000000\n",
              "School Name                         0.000000\n",
              "School Number                       0.000000\n",
              "School Region                       0.000333\n",
              "School Code                         0.000333\n",
              "School Phone Number                 0.000000\n",
              "School Address                      0.000000\n",
              "School City                         0.000000\n",
              "School State                        0.000000\n",
              "School Zip                          0.000333\n",
              "School Not Found                    0.000000\n",
              "School or Citywide Complaint      100.000000\n",
              "Vehicle Type                      100.000000\n",
              "Taxi Company Borough              100.000000\n",
              "Taxi Pick Up Location             100.000000\n",
              "Bridge Highway Name                99.919188\n",
              "Bridge Highway Direction           99.919188\n",
              "Road Ramp                          99.929165\n",
              "Bridge Highway Segment             99.929165\n",
              "Garage Lot Name                   100.000000\n",
              "Ferry Direction                    99.999667\n",
              "Ferry Terminal Name                99.999335\n",
              "Latitude                            1.177261\n",
              "Longitude                           1.177261\n",
              "Location                            1.177261\n",
              "dtype: float64"
            ]
          },
          "metadata": {
            "tags": []
          },
          "execution_count": 123
        }
      ]
    },
    {
      "cell_type": "code",
      "metadata": {
        "id": "LzIQ-rm0Hf3z"
      },
      "source": [
        "# dropping columns with more than 30% Nulls\n",
        "df.drop(labels=['Intersection Street 1',\n",
        "                'Intersection Street 2',\n",
        "                'Landmark',\n",
        "                'School or Citywide Complaint',\n",
        "                'Vehicle Type',\n",
        "                'Taxi Company Borough',\n",
        "                'Taxi Pick Up Location',\n",
        "                'Bridge Highway Name',\n",
        "                'Bridge Highway Direction',\n",
        "                'Road Ramp',\n",
        "                'Bridge Highway Segment',\n",
        "                'Garage Lot Name',\n",
        "                'Ferry Direction',\n",
        "                'Ferry Terminal Name'\n",
        "               ], axis=1, inplace=True)"
      ],
      "execution_count": 124,
      "outputs": []
    },
    {
      "cell_type": "code",
      "metadata": {
        "colab": {
          "base_uri": "https://localhost:8080/"
        },
        "id": "n3IP_VE2INl9",
        "outputId": "61037023-41ce-48f0-b57a-9f42806c2ee7"
      },
      "source": [
        "df.info()"
      ],
      "execution_count": 125,
      "outputs": [
        {
          "output_type": "stream",
          "text": [
            "<class 'pandas.core.frame.DataFrame'>\n",
            "RangeIndex: 300698 entries, 0 to 300697\n",
            "Data columns (total 39 columns):\n",
            " #   Column                          Non-Null Count   Dtype  \n",
            "---  ------                          --------------   -----  \n",
            " 0   Unique Key                      300698 non-null  int64  \n",
            " 1   Created Date                    300698 non-null  object \n",
            " 2   Closed Date                     298534 non-null  object \n",
            " 3   Agency                          300698 non-null  object \n",
            " 4   Agency Name                     300698 non-null  object \n",
            " 5   Complaint Type                  300698 non-null  object \n",
            " 6   Descriptor                      294784 non-null  object \n",
            " 7   Location Type                   300567 non-null  object \n",
            " 8   Incident Zip                    298083 non-null  float64\n",
            " 9   Incident Address                256288 non-null  object \n",
            " 10  Street Name                     256288 non-null  object \n",
            " 11  Cross Street 1                  251419 non-null  object \n",
            " 12  Cross Street 2                  250919 non-null  object \n",
            " 13  Address Type                    297883 non-null  object \n",
            " 14  City                            298084 non-null  object \n",
            " 15  Facility Type                   298527 non-null  object \n",
            " 16  Status                          300698 non-null  object \n",
            " 17  Due Date                        300695 non-null  object \n",
            " 18  Resolution Description          300698 non-null  object \n",
            " 19  Resolution Action Updated Date  298511 non-null  object \n",
            " 20  Community Board                 300698 non-null  object \n",
            " 21  Borough                         300698 non-null  object \n",
            " 22  X Coordinate (State Plane)      297158 non-null  float64\n",
            " 23  Y Coordinate (State Plane)      297158 non-null  float64\n",
            " 24  Park Facility Name              300698 non-null  object \n",
            " 25  Park Borough                    300698 non-null  object \n",
            " 26  School Name                     300698 non-null  object \n",
            " 27  School Number                   300698 non-null  object \n",
            " 28  School Region                   300697 non-null  object \n",
            " 29  School Code                     300697 non-null  object \n",
            " 30  School Phone Number             300698 non-null  object \n",
            " 31  School Address                  300698 non-null  object \n",
            " 32  School City                     300698 non-null  object \n",
            " 33  School State                    300698 non-null  object \n",
            " 34  School Zip                      300697 non-null  object \n",
            " 35  School Not Found                300698 non-null  object \n",
            " 36  Latitude                        297158 non-null  float64\n",
            " 37  Longitude                       297158 non-null  float64\n",
            " 38  Location                        297158 non-null  object \n",
            "dtypes: float64(5), int64(1), object(33)\n",
            "memory usage: 89.5+ MB\n"
          ],
          "name": "stdout"
        }
      ]
    },
    {
      "cell_type": "code",
      "metadata": {
        "colab": {
          "base_uri": "https://localhost:8080/"
        },
        "id": "1O5rpMKCHibd",
        "outputId": "01334291-cef8-4fd8-a5c1-ccfd6acd3874"
      },
      "source": [
        "df.isnull().sum()/len(df)*100 >5"
      ],
      "execution_count": 126,
      "outputs": [
        {
          "output_type": "execute_result",
          "data": {
            "text/plain": [
              "Unique Key                        False\n",
              "Created Date                      False\n",
              "Closed Date                       False\n",
              "Agency                            False\n",
              "Agency Name                       False\n",
              "Complaint Type                    False\n",
              "Descriptor                        False\n",
              "Location Type                     False\n",
              "Incident Zip                      False\n",
              "Incident Address                   True\n",
              "Street Name                        True\n",
              "Cross Street 1                     True\n",
              "Cross Street 2                     True\n",
              "Address Type                      False\n",
              "City                              False\n",
              "Facility Type                     False\n",
              "Status                            False\n",
              "Due Date                          False\n",
              "Resolution Description            False\n",
              "Resolution Action Updated Date    False\n",
              "Community Board                   False\n",
              "Borough                           False\n",
              "X Coordinate (State Plane)        False\n",
              "Y Coordinate (State Plane)        False\n",
              "Park Facility Name                False\n",
              "Park Borough                      False\n",
              "School Name                       False\n",
              "School Number                     False\n",
              "School Region                     False\n",
              "School Code                       False\n",
              "School Phone Number               False\n",
              "School Address                    False\n",
              "School City                       False\n",
              "School State                      False\n",
              "School Zip                        False\n",
              "School Not Found                  False\n",
              "Latitude                          False\n",
              "Longitude                         False\n",
              "Location                          False\n",
              "dtype: bool"
            ]
          },
          "metadata": {
            "tags": []
          },
          "execution_count": 126
        }
      ]
    },
    {
      "cell_type": "code",
      "metadata": {
        "id": "lC3hLV_5IPR9"
      },
      "source": [
        "# fill Nulls with mode()\n",
        "df['Incident Address'].fillna(value=df['Incident Address'].mode()[0],inplace=True)\n",
        "df['Street Name'].fillna(value=df['Street Name'].mode()[0],inplace=True)\n",
        "df['Cross Street 1'].fillna(value=df['Cross Street 1'].mode()[0],inplace=True)\n",
        "df['Cross Street 2'].fillna(value=df['Cross Street 2'].mode()[0],inplace=True)"
      ],
      "execution_count": 127,
      "outputs": []
    },
    {
      "cell_type": "code",
      "metadata": {
        "colab": {
          "base_uri": "https://localhost:8080/"
        },
        "id": "IteMjWq9J3Uq",
        "outputId": "529cec40-050e-48b6-b3e8-e2f6939a504b"
      },
      "source": [
        "df.isnull().sum()/len(df)*100 >0.0"
      ],
      "execution_count": 128,
      "outputs": [
        {
          "output_type": "execute_result",
          "data": {
            "text/plain": [
              "Unique Key                        False\n",
              "Created Date                      False\n",
              "Closed Date                        True\n",
              "Agency                            False\n",
              "Agency Name                       False\n",
              "Complaint Type                    False\n",
              "Descriptor                         True\n",
              "Location Type                      True\n",
              "Incident Zip                       True\n",
              "Incident Address                  False\n",
              "Street Name                       False\n",
              "Cross Street 1                    False\n",
              "Cross Street 2                    False\n",
              "Address Type                       True\n",
              "City                               True\n",
              "Facility Type                      True\n",
              "Status                            False\n",
              "Due Date                           True\n",
              "Resolution Description            False\n",
              "Resolution Action Updated Date     True\n",
              "Community Board                   False\n",
              "Borough                           False\n",
              "X Coordinate (State Plane)         True\n",
              "Y Coordinate (State Plane)         True\n",
              "Park Facility Name                False\n",
              "Park Borough                      False\n",
              "School Name                       False\n",
              "School Number                     False\n",
              "School Region                      True\n",
              "School Code                        True\n",
              "School Phone Number               False\n",
              "School Address                    False\n",
              "School City                       False\n",
              "School State                      False\n",
              "School Zip                         True\n",
              "School Not Found                  False\n",
              "Latitude                           True\n",
              "Longitude                          True\n",
              "Location                           True\n",
              "dtype: bool"
            ]
          },
          "metadata": {
            "tags": []
          },
          "execution_count": 128
        }
      ]
    },
    {
      "cell_type": "code",
      "metadata": {
        "colab": {
          "base_uri": "https://localhost:8080/"
        },
        "id": "u1f5UghaRFee",
        "outputId": "0313496b-4028-4388-c0d2-fe06a1a2385b"
      },
      "source": [
        "df.shape"
      ],
      "execution_count": 129,
      "outputs": [
        {
          "output_type": "execute_result",
          "data": {
            "text/plain": [
              "(300698, 39)"
            ]
          },
          "metadata": {
            "tags": []
          },
          "execution_count": 129
        }
      ]
    },
    {
      "cell_type": "code",
      "metadata": {
        "colab": {
          "base_uri": "https://localhost:8080/"
        },
        "id": "ua--A5jlSRU_",
        "outputId": "2d407725-a856-4f5f-94d0-81c73cc00773"
      },
      "source": [
        "# dropping rows when the value of Nulls (these are less than 5%)\n",
        "\n",
        "df.dropna(inplace=True)\n",
        "df.info()"
      ],
      "execution_count": 130,
      "outputs": [
        {
          "output_type": "stream",
          "text": [
            "<class 'pandas.core.frame.DataFrame'>\n",
            "Int64Index: 290881 entries, 0 to 300697\n",
            "Data columns (total 39 columns):\n",
            " #   Column                          Non-Null Count   Dtype  \n",
            "---  ------                          --------------   -----  \n",
            " 0   Unique Key                      290881 non-null  int64  \n",
            " 1   Created Date                    290881 non-null  object \n",
            " 2   Closed Date                     290881 non-null  object \n",
            " 3   Agency                          290881 non-null  object \n",
            " 4   Agency Name                     290881 non-null  object \n",
            " 5   Complaint Type                  290881 non-null  object \n",
            " 6   Descriptor                      290881 non-null  object \n",
            " 7   Location Type                   290881 non-null  object \n",
            " 8   Incident Zip                    290881 non-null  float64\n",
            " 9   Incident Address                290881 non-null  object \n",
            " 10  Street Name                     290881 non-null  object \n",
            " 11  Cross Street 1                  290881 non-null  object \n",
            " 12  Cross Street 2                  290881 non-null  object \n",
            " 13  Address Type                    290881 non-null  object \n",
            " 14  City                            290881 non-null  object \n",
            " 15  Facility Type                   290881 non-null  object \n",
            " 16  Status                          290881 non-null  object \n",
            " 17  Due Date                        290881 non-null  object \n",
            " 18  Resolution Description          290881 non-null  object \n",
            " 19  Resolution Action Updated Date  290881 non-null  object \n",
            " 20  Community Board                 290881 non-null  object \n",
            " 21  Borough                         290881 non-null  object \n",
            " 22  X Coordinate (State Plane)      290881 non-null  float64\n",
            " 23  Y Coordinate (State Plane)      290881 non-null  float64\n",
            " 24  Park Facility Name              290881 non-null  object \n",
            " 25  Park Borough                    290881 non-null  object \n",
            " 26  School Name                     290881 non-null  object \n",
            " 27  School Number                   290881 non-null  object \n",
            " 28  School Region                   290881 non-null  object \n",
            " 29  School Code                     290881 non-null  object \n",
            " 30  School Phone Number             290881 non-null  object \n",
            " 31  School Address                  290881 non-null  object \n",
            " 32  School City                     290881 non-null  object \n",
            " 33  School State                    290881 non-null  object \n",
            " 34  School Zip                      290881 non-null  object \n",
            " 35  School Not Found                290881 non-null  object \n",
            " 36  Latitude                        290881 non-null  float64\n",
            " 37  Longitude                       290881 non-null  float64\n",
            " 38  Location                        290881 non-null  object \n",
            "dtypes: float64(5), int64(1), object(33)\n",
            "memory usage: 88.8+ MB\n"
          ],
          "name": "stdout"
        }
      ]
    },
    {
      "cell_type": "code",
      "metadata": {
        "colab": {
          "base_uri": "https://localhost:8080/"
        },
        "id": "-diyjyrQP1-P",
        "outputId": "45ae2b9f-4434-439e-bcce-9034bef97088"
      },
      "source": [
        "df.shape"
      ],
      "execution_count": 132,
      "outputs": [
        {
          "output_type": "execute_result",
          "data": {
            "text/plain": [
              "(290881, 39)"
            ]
          },
          "metadata": {
            "tags": []
          },
          "execution_count": 132
        }
      ]
    },
    {
      "cell_type": "code",
      "metadata": {
        "id": "oZXcz5WHHkP3"
      },
      "source": [
        "#converting string to datetime objects\n",
        "\n",
        "df['Created Date'] = pd.to_datetime(df['Created Date'])\n",
        "df['Closed Date'] = pd.to_datetime(df['Closed Date'])\n",
        "df['Due Date'] = pd.to_datetime(df['Due Date'])\n",
        "df['Resolution Action Updated Date'] = pd.to_datetime(df['Resolution Action Updated Date'])"
      ],
      "execution_count": 133,
      "outputs": []
    },
    {
      "cell_type": "code",
      "metadata": {
        "colab": {
          "base_uri": "https://localhost:8080/"
        },
        "id": "8E4rZrh5R105",
        "outputId": "e9e1e795-0bb4-4041-bb45-fd7872cd457e"
      },
      "source": [
        "df.info()"
      ],
      "execution_count": 134,
      "outputs": [
        {
          "output_type": "stream",
          "text": [
            "<class 'pandas.core.frame.DataFrame'>\n",
            "Int64Index: 290881 entries, 0 to 300697\n",
            "Data columns (total 39 columns):\n",
            " #   Column                          Non-Null Count   Dtype         \n",
            "---  ------                          --------------   -----         \n",
            " 0   Unique Key                      290881 non-null  int64         \n",
            " 1   Created Date                    290881 non-null  datetime64[ns]\n",
            " 2   Closed Date                     290881 non-null  datetime64[ns]\n",
            " 3   Agency                          290881 non-null  object        \n",
            " 4   Agency Name                     290881 non-null  object        \n",
            " 5   Complaint Type                  290881 non-null  object        \n",
            " 6   Descriptor                      290881 non-null  object        \n",
            " 7   Location Type                   290881 non-null  object        \n",
            " 8   Incident Zip                    290881 non-null  float64       \n",
            " 9   Incident Address                290881 non-null  object        \n",
            " 10  Street Name                     290881 non-null  object        \n",
            " 11  Cross Street 1                  290881 non-null  object        \n",
            " 12  Cross Street 2                  290881 non-null  object        \n",
            " 13  Address Type                    290881 non-null  object        \n",
            " 14  City                            290881 non-null  object        \n",
            " 15  Facility Type                   290881 non-null  object        \n",
            " 16  Status                          290881 non-null  object        \n",
            " 17  Due Date                        290881 non-null  datetime64[ns]\n",
            " 18  Resolution Description          290881 non-null  object        \n",
            " 19  Resolution Action Updated Date  290881 non-null  datetime64[ns]\n",
            " 20  Community Board                 290881 non-null  object        \n",
            " 21  Borough                         290881 non-null  object        \n",
            " 22  X Coordinate (State Plane)      290881 non-null  float64       \n",
            " 23  Y Coordinate (State Plane)      290881 non-null  float64       \n",
            " 24  Park Facility Name              290881 non-null  object        \n",
            " 25  Park Borough                    290881 non-null  object        \n",
            " 26  School Name                     290881 non-null  object        \n",
            " 27  School Number                   290881 non-null  object        \n",
            " 28  School Region                   290881 non-null  object        \n",
            " 29  School Code                     290881 non-null  object        \n",
            " 30  School Phone Number             290881 non-null  object        \n",
            " 31  School Address                  290881 non-null  object        \n",
            " 32  School City                     290881 non-null  object        \n",
            " 33  School State                    290881 non-null  object        \n",
            " 34  School Zip                      290881 non-null  object        \n",
            " 35  School Not Found                290881 non-null  object        \n",
            " 36  Latitude                        290881 non-null  float64       \n",
            " 37  Longitude                       290881 non-null  float64       \n",
            " 38  Location                        290881 non-null  object        \n",
            "dtypes: datetime64[ns](4), float64(5), int64(1), object(29)\n",
            "memory usage: 88.8+ MB\n"
          ],
          "name": "stdout"
        }
      ]
    },
    {
      "cell_type": "code",
      "metadata": {
        "id": "y4aDHfPaVTen"
      },
      "source": [
        "df['Request_Closing_Time']=(df['Closed Date']-df['Created Date']).dt.seconds/60"
      ],
      "execution_count": 136,
      "outputs": []
    },
    {
      "cell_type": "code",
      "metadata": {
        "colab": {
          "base_uri": "https://localhost:8080/",
          "height": 583
        },
        "id": "SXOeVmAwaI0P",
        "outputId": "6998b84c-9c4f-4978-b3fd-6e1dfefc425c"
      },
      "source": [
        "df.head()"
      ],
      "execution_count": 137,
      "outputs": [
        {
          "output_type": "execute_result",
          "data": {
            "text/html": [
              "<div>\n",
              "<style scoped>\n",
              "    .dataframe tbody tr th:only-of-type {\n",
              "        vertical-align: middle;\n",
              "    }\n",
              "\n",
              "    .dataframe tbody tr th {\n",
              "        vertical-align: top;\n",
              "    }\n",
              "\n",
              "    .dataframe thead th {\n",
              "        text-align: right;\n",
              "    }\n",
              "</style>\n",
              "<table border=\"1\" class=\"dataframe\">\n",
              "  <thead>\n",
              "    <tr style=\"text-align: right;\">\n",
              "      <th></th>\n",
              "      <th>Unique Key</th>\n",
              "      <th>Created Date</th>\n",
              "      <th>Closed Date</th>\n",
              "      <th>Agency</th>\n",
              "      <th>Agency Name</th>\n",
              "      <th>Complaint Type</th>\n",
              "      <th>Descriptor</th>\n",
              "      <th>Location Type</th>\n",
              "      <th>Incident Zip</th>\n",
              "      <th>Incident Address</th>\n",
              "      <th>Street Name</th>\n",
              "      <th>Cross Street 1</th>\n",
              "      <th>Cross Street 2</th>\n",
              "      <th>Address Type</th>\n",
              "      <th>City</th>\n",
              "      <th>Facility Type</th>\n",
              "      <th>Status</th>\n",
              "      <th>Due Date</th>\n",
              "      <th>Resolution Description</th>\n",
              "      <th>Resolution Action Updated Date</th>\n",
              "      <th>Community Board</th>\n",
              "      <th>Borough</th>\n",
              "      <th>X Coordinate (State Plane)</th>\n",
              "      <th>Y Coordinate (State Plane)</th>\n",
              "      <th>Park Facility Name</th>\n",
              "      <th>Park Borough</th>\n",
              "      <th>School Name</th>\n",
              "      <th>School Number</th>\n",
              "      <th>School Region</th>\n",
              "      <th>School Code</th>\n",
              "      <th>School Phone Number</th>\n",
              "      <th>School Address</th>\n",
              "      <th>School City</th>\n",
              "      <th>School State</th>\n",
              "      <th>School Zip</th>\n",
              "      <th>School Not Found</th>\n",
              "      <th>Latitude</th>\n",
              "      <th>Longitude</th>\n",
              "      <th>Location</th>\n",
              "      <th>Request_Closing_Time</th>\n",
              "    </tr>\n",
              "  </thead>\n",
              "  <tbody>\n",
              "    <tr>\n",
              "      <th>0</th>\n",
              "      <td>32310363</td>\n",
              "      <td>2015-12-31 23:59:45</td>\n",
              "      <td>2016-01-01 00:55:00</td>\n",
              "      <td>NYPD</td>\n",
              "      <td>New York City Police Department</td>\n",
              "      <td>Noise - Street/Sidewalk</td>\n",
              "      <td>Loud Music/Party</td>\n",
              "      <td>Street/Sidewalk</td>\n",
              "      <td>10034.0</td>\n",
              "      <td>71 VERMILYEA AVENUE</td>\n",
              "      <td>VERMILYEA AVENUE</td>\n",
              "      <td>ACADEMY STREET</td>\n",
              "      <td>WEST 204 STREET</td>\n",
              "      <td>ADDRESS</td>\n",
              "      <td>NEW YORK</td>\n",
              "      <td>Precinct</td>\n",
              "      <td>Closed</td>\n",
              "      <td>2016-01-01 07:59:00</td>\n",
              "      <td>The Police Department responded and upon arriv...</td>\n",
              "      <td>2016-01-01 00:55:00</td>\n",
              "      <td>12 MANHATTAN</td>\n",
              "      <td>MANHATTAN</td>\n",
              "      <td>1005409.0</td>\n",
              "      <td>254678.0</td>\n",
              "      <td>Unspecified</td>\n",
              "      <td>MANHATTAN</td>\n",
              "      <td>Unspecified</td>\n",
              "      <td>Unspecified</td>\n",
              "      <td>Unspecified</td>\n",
              "      <td>Unspecified</td>\n",
              "      <td>Unspecified</td>\n",
              "      <td>Unspecified</td>\n",
              "      <td>Unspecified</td>\n",
              "      <td>Unspecified</td>\n",
              "      <td>Unspecified</td>\n",
              "      <td>N</td>\n",
              "      <td>40.865682</td>\n",
              "      <td>-73.923501</td>\n",
              "      <td>(40.86568153633767, -73.92350095571744)</td>\n",
              "      <td>55.250000</td>\n",
              "    </tr>\n",
              "    <tr>\n",
              "      <th>1</th>\n",
              "      <td>32309934</td>\n",
              "      <td>2015-12-31 23:59:44</td>\n",
              "      <td>2016-01-01 01:26:00</td>\n",
              "      <td>NYPD</td>\n",
              "      <td>New York City Police Department</td>\n",
              "      <td>Blocked Driveway</td>\n",
              "      <td>No Access</td>\n",
              "      <td>Street/Sidewalk</td>\n",
              "      <td>11105.0</td>\n",
              "      <td>27-07 23 AVENUE</td>\n",
              "      <td>23 AVENUE</td>\n",
              "      <td>27 STREET</td>\n",
              "      <td>28 STREET</td>\n",
              "      <td>ADDRESS</td>\n",
              "      <td>ASTORIA</td>\n",
              "      <td>Precinct</td>\n",
              "      <td>Closed</td>\n",
              "      <td>2016-01-01 07:59:00</td>\n",
              "      <td>The Police Department responded to the complai...</td>\n",
              "      <td>2016-01-01 01:26:00</td>\n",
              "      <td>01 QUEENS</td>\n",
              "      <td>QUEENS</td>\n",
              "      <td>1007766.0</td>\n",
              "      <td>221986.0</td>\n",
              "      <td>Unspecified</td>\n",
              "      <td>QUEENS</td>\n",
              "      <td>Unspecified</td>\n",
              "      <td>Unspecified</td>\n",
              "      <td>Unspecified</td>\n",
              "      <td>Unspecified</td>\n",
              "      <td>Unspecified</td>\n",
              "      <td>Unspecified</td>\n",
              "      <td>Unspecified</td>\n",
              "      <td>Unspecified</td>\n",
              "      <td>Unspecified</td>\n",
              "      <td>N</td>\n",
              "      <td>40.775945</td>\n",
              "      <td>-73.915094</td>\n",
              "      <td>(40.775945312321085, -73.91509393898605)</td>\n",
              "      <td>86.266667</td>\n",
              "    </tr>\n",
              "    <tr>\n",
              "      <th>2</th>\n",
              "      <td>32309159</td>\n",
              "      <td>2015-12-31 23:59:29</td>\n",
              "      <td>2016-01-01 04:51:00</td>\n",
              "      <td>NYPD</td>\n",
              "      <td>New York City Police Department</td>\n",
              "      <td>Blocked Driveway</td>\n",
              "      <td>No Access</td>\n",
              "      <td>Street/Sidewalk</td>\n",
              "      <td>10458.0</td>\n",
              "      <td>2897 VALENTINE AVENUE</td>\n",
              "      <td>VALENTINE AVENUE</td>\n",
              "      <td>EAST 198 STREET</td>\n",
              "      <td>EAST 199 STREET</td>\n",
              "      <td>ADDRESS</td>\n",
              "      <td>BRONX</td>\n",
              "      <td>Precinct</td>\n",
              "      <td>Closed</td>\n",
              "      <td>2016-01-01 07:59:00</td>\n",
              "      <td>The Police Department responded and upon arriv...</td>\n",
              "      <td>2016-01-01 04:51:00</td>\n",
              "      <td>07 BRONX</td>\n",
              "      <td>BRONX</td>\n",
              "      <td>1015081.0</td>\n",
              "      <td>256380.0</td>\n",
              "      <td>Unspecified</td>\n",
              "      <td>BRONX</td>\n",
              "      <td>Unspecified</td>\n",
              "      <td>Unspecified</td>\n",
              "      <td>Unspecified</td>\n",
              "      <td>Unspecified</td>\n",
              "      <td>Unspecified</td>\n",
              "      <td>Unspecified</td>\n",
              "      <td>Unspecified</td>\n",
              "      <td>Unspecified</td>\n",
              "      <td>Unspecified</td>\n",
              "      <td>N</td>\n",
              "      <td>40.870325</td>\n",
              "      <td>-73.888525</td>\n",
              "      <td>(40.870324522111424, -73.88852464418646)</td>\n",
              "      <td>291.516667</td>\n",
              "    </tr>\n",
              "    <tr>\n",
              "      <th>3</th>\n",
              "      <td>32305098</td>\n",
              "      <td>2015-12-31 23:57:46</td>\n",
              "      <td>2016-01-01 07:43:00</td>\n",
              "      <td>NYPD</td>\n",
              "      <td>New York City Police Department</td>\n",
              "      <td>Illegal Parking</td>\n",
              "      <td>Commercial Overnight Parking</td>\n",
              "      <td>Street/Sidewalk</td>\n",
              "      <td>10461.0</td>\n",
              "      <td>2940 BAISLEY AVENUE</td>\n",
              "      <td>BAISLEY AVENUE</td>\n",
              "      <td>EDISON AVENUE</td>\n",
              "      <td>B STREET</td>\n",
              "      <td>ADDRESS</td>\n",
              "      <td>BRONX</td>\n",
              "      <td>Precinct</td>\n",
              "      <td>Closed</td>\n",
              "      <td>2016-01-01 07:57:00</td>\n",
              "      <td>The Police Department responded to the complai...</td>\n",
              "      <td>2016-01-01 07:43:00</td>\n",
              "      <td>10 BRONX</td>\n",
              "      <td>BRONX</td>\n",
              "      <td>1031740.0</td>\n",
              "      <td>243899.0</td>\n",
              "      <td>Unspecified</td>\n",
              "      <td>BRONX</td>\n",
              "      <td>Unspecified</td>\n",
              "      <td>Unspecified</td>\n",
              "      <td>Unspecified</td>\n",
              "      <td>Unspecified</td>\n",
              "      <td>Unspecified</td>\n",
              "      <td>Unspecified</td>\n",
              "      <td>Unspecified</td>\n",
              "      <td>Unspecified</td>\n",
              "      <td>Unspecified</td>\n",
              "      <td>N</td>\n",
              "      <td>40.835994</td>\n",
              "      <td>-73.828379</td>\n",
              "      <td>(40.83599404683083, -73.82837939584206)</td>\n",
              "      <td>465.233333</td>\n",
              "    </tr>\n",
              "    <tr>\n",
              "      <th>4</th>\n",
              "      <td>32306529</td>\n",
              "      <td>2015-12-31 23:56:58</td>\n",
              "      <td>2016-01-01 03:24:00</td>\n",
              "      <td>NYPD</td>\n",
              "      <td>New York City Police Department</td>\n",
              "      <td>Illegal Parking</td>\n",
              "      <td>Blocked Sidewalk</td>\n",
              "      <td>Street/Sidewalk</td>\n",
              "      <td>11373.0</td>\n",
              "      <td>87-14 57 ROAD</td>\n",
              "      <td>57 ROAD</td>\n",
              "      <td>SEABURY STREET</td>\n",
              "      <td>HOFFMAN DRIVE</td>\n",
              "      <td>ADDRESS</td>\n",
              "      <td>ELMHURST</td>\n",
              "      <td>Precinct</td>\n",
              "      <td>Closed</td>\n",
              "      <td>2016-01-01 07:56:00</td>\n",
              "      <td>The Police Department responded and upon arriv...</td>\n",
              "      <td>2016-01-01 03:24:00</td>\n",
              "      <td>04 QUEENS</td>\n",
              "      <td>QUEENS</td>\n",
              "      <td>1019123.0</td>\n",
              "      <td>206375.0</td>\n",
              "      <td>Unspecified</td>\n",
              "      <td>QUEENS</td>\n",
              "      <td>Unspecified</td>\n",
              "      <td>Unspecified</td>\n",
              "      <td>Unspecified</td>\n",
              "      <td>Unspecified</td>\n",
              "      <td>Unspecified</td>\n",
              "      <td>Unspecified</td>\n",
              "      <td>Unspecified</td>\n",
              "      <td>Unspecified</td>\n",
              "      <td>Unspecified</td>\n",
              "      <td>N</td>\n",
              "      <td>40.733060</td>\n",
              "      <td>-73.874170</td>\n",
              "      <td>(40.733059618956815, -73.87416975810375)</td>\n",
              "      <td>207.033333</td>\n",
              "    </tr>\n",
              "  </tbody>\n",
              "</table>\n",
              "</div>"
            ],
            "text/plain": [
              "   Unique Key  ... Request_Closing_Time\n",
              "0    32310363  ...            55.250000\n",
              "1    32309934  ...            86.266667\n",
              "2    32309159  ...           291.516667\n",
              "3    32305098  ...           465.233333\n",
              "4    32306529  ...           207.033333\n",
              "\n",
              "[5 rows x 40 columns]"
            ]
          },
          "metadata": {
            "tags": []
          },
          "execution_count": 137
        }
      ]
    },
    {
      "cell_type": "code",
      "metadata": {
        "colab": {
          "base_uri": "https://localhost:8080/",
          "height": 675
        },
        "id": "fhvf-tiDkhLy",
        "outputId": "07052fee-fd6d-4154-c1d1-4dc8e60187e5"
      },
      "source": [
        "# Histogram showing how quickly the cases were closed\n",
        "plt.figure(figsize=(20,10))\n",
        "sns.distplot(df['Request_Closing_Time'],kde=False,color='g')\n",
        "plt.title('Histogram showing how quickly the cases were closed')\n",
        "plt.xlabel('Request Closing time (mins)')\n",
        "plt.show()"
      ],
      "execution_count": 138,
      "outputs": [
        {
          "output_type": "stream",
          "text": [
            "/usr/local/lib/python3.6/dist-packages/seaborn/distributions.py:2551: FutureWarning: `distplot` is a deprecated function and will be removed in a future version. Please adapt your code to use either `displot` (a figure-level function with similar flexibility) or `histplot` (an axes-level function for histograms).\n",
            "  warnings.warn(msg, FutureWarning)\n"
          ],
          "name": "stderr"
        },
        {
          "output_type": "display_data",
          "data": {
            "image/png": "[encoded data removed]",
            "text/plain": [
              "<Figure size 1440x720 with 1 Axes>"
            ]
          },
          "metadata": {
            "tags": [],
            "needs_background": "light"
          }
        }
      ]
    },
    {
      "cell_type": "code",
      "metadata": {
        "colab": {
          "base_uri": "https://localhost:8080/",
          "height": 627
        },
        "id": "E5y5h2HCkmTY",
        "outputId": "afcb4abc-0a4f-45ea-c758-d77090c8466b"
      },
      "source": [
        "complaints = df['Complaint Type'].value_counts().sort_values()\n",
        "plt.figure(figsize=(10,10))\n",
        "complaints.plot(kind='barh',grid=True,color='black',fontsize=15)\n",
        "plt.title('Different Types of Complaints')\n",
        "plt.xlabel('No. of cases')\n",
        "plt.show()"
      ],
      "execution_count": 139,
      "outputs": [
        {
          "output_type": "display_data",
          "data": {
            "image/png": "[encoded data removed]",
            "text/plain": [
              "<Figure size 720x720 with 1 Axes>"
            ]
          },
          "metadata": {
            "tags": [],
            "needs_background": "light"
          }
        }
      ]
    },
    {
      "cell_type": "code",
      "metadata": {
        "colab": {
          "base_uri": "https://localhost:8080/",
          "height": 627
        },
        "id": "ADqi8_4wkoi1",
        "outputId": "21780eca-a3d4-4778-bacc-e8e479649af7"
      },
      "source": [
        "location = df['Location Type'].value_counts().sort_values()\n",
        "plt.figure(figsize=(10,10))\n",
        "location.plot(kind='barh',grid=True,color='black',fontsize=15)\n",
        "plt.title('Complaints from Locations...')\n",
        "plt.xlabel('No. of cases')\n",
        "plt.show()"
      ],
      "execution_count": 140,
      "outputs": [
        {
          "output_type": "display_data",
          "data": {
            "image/png": "[encoded data removed]",
            "text/plain": [
              "<Figure size 720x720 with 1 Axes>"
            ]
          },
          "metadata": {
            "tags": [],
            "needs_background": "light"
          }
        }
      ]
    },
    {
      "cell_type": "code",
      "metadata": {
        "colab": {
          "base_uri": "https://localhost:8080/"
        },
        "id": "sXeXMhIBkqP8",
        "outputId": "ddc79a4c-6f3a-45a0-9aa4-d0e026a47382"
      },
      "source": [
        "df['Resolution Description'].value_counts()"
      ],
      "execution_count": 141,
      "outputs": [
        {
          "output_type": "execute_result",
          "data": {
            "text/plain": [
              "The Police Department responded to the complaint and with the information available observed no evidence of the violation at that time.                                                      88073\n",
              "The Police Department responded to the complaint and took action to fix the condition.                                                                                                       59383\n",
              "The Police Department responded and upon arrival those responsible for the condition were gone.                                                                                              56615\n",
              "The Police Department responded to the complaint and determined that police action was not necessary.                                                                                        37369\n",
              "The Police Department issued a summons in response to the complaint.                                                                                                                         28180\n",
              "The Police Department reviewed your complaint and provided additional information below.                                                                                                     13479\n",
              "Your request can not be processed at this time because of insufficient contact information. Please create a new Service Request on NYC.gov and provide more detailed contact information.     4121\n",
              "This complaint does not fall under the Police Department's jurisdiction.                                                                                                                      1687\n",
              "The Police Department responded to the complaint but officers were unable to gain entry into the premises.                                                                                    1188\n",
              "The Police Department responded to the complaint and a report was prepared.                                                                                                                    665\n",
              "The Police Department made an arrest in response to the complaint.                                                                                                                             121\n",
              "Name: Resolution Description, dtype: int64"
            ]
          },
          "metadata": {
            "tags": []
          },
          "execution_count": 141
        }
      ]
    },
    {
      "cell_type": "code",
      "metadata": {
        "colab": {
          "base_uri": "https://localhost:8080/"
        },
        "id": "Vccj-bdNksCE",
        "outputId": "700306a5-d63d-4a6c-ebd9-1daf0d827a46"
      },
      "source": [
        "df['City'].value_counts().head(5)"
      ],
      "execution_count": 142,
      "outputs": [
        {
          "output_type": "execute_result",
          "data": {
            "text/plain": [
              "BROOKLYN         96814\n",
              "NEW YORK         61867\n",
              "BRONX            40182\n",
              "STATEN ISLAND    12186\n",
              "JAMAICA           7144\n",
              "Name: City, dtype: int64"
            ]
          },
          "metadata": {
            "tags": []
          },
          "execution_count": 142
        }
      ]
    }
  ]
}